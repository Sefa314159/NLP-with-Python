{
 "cells": [
  {
   "cell_type": "markdown",
   "metadata": {},
   "source": [
    "# spaCy Basics\n",
    "\n",
    "**spaCy** (https://spacy.io/) is an open-source Python library that parses and \"understands\" large volumes of text. Separate models are available that cater to specific languages (English, French, German, etc.).\n",
    "\n",
    "In this section we'll install and setup spaCy to work with Python, and then introduce some concepts related to Natural Language Processing."
   ]
  },
  {
   "cell_type": "markdown",
   "metadata": {},
   "source": [
    "# Installation and Setup\n",
    "\n",
    "Installation is a two-step process. First, install spaCy using either conda or pip. Next, download the specific model you want, based on language.<br> For more info visit https://spacy.io/usage/\n",
    "\n",
    "### 1. From the command line or terminal:\n",
    "> `conda install -c conda-forge spacy`\n",
    "> <br>*or*<br>\n",
    "> `pip install -U spacy`\n",
    "\n",
    "> ### Alternatively you can create a virtual environment:\n",
    "> `conda create -n spacyenv python=3 spacy=2`\n",
    "\n",
    "### 2. Next, also from the command line (you must run this as admin or use sudo):\n",
    "\n",
    "> `python -m spacy download en`\n",
    "\n",
    "> ### If successful, you should see a message like:\n",
    "\n",
    "> **`Linking successful`**<br>\n",
    "> `    C:\\Anaconda3\\envs\\spacyenv\\lib\\site-packages\\en_core_web_sm -->`<br>\n",
    "> `    C:\\Anaconda3\\envs\\spacyenv\\lib\\site-packages\\spacy\\data\\en`<br>\n",
    "> ` `<br>\n",
    "> `    You can now load the model via spacy.load('en')`\n"
   ]
  },
  {
   "cell_type": "markdown",
   "metadata": {},
   "source": [
    "# Working with spaCy in Python\n",
    "\n",
    "This is a typical set of instructions for importing and working with spaCy. Don't be surprised if this takes awhile - spaCy has a fairly large library to load:"
   ]
  },
  {
   "cell_type": "code",
   "execution_count": 1,
   "metadata": {
    "execution": {
     "iopub.execute_input": "2021-02-01T15:52:52.835245Z",
     "iopub.status.busy": "2021-02-01T15:52:52.834247Z",
     "iopub.status.idle": "2021-02-01T15:52:54.617086Z",
     "shell.execute_reply": "2021-02-01T15:52:54.616393Z",
     "shell.execute_reply.started": "2021-02-01T15:52:52.834247Z"
    }
   },
   "outputs": [],
   "source": [
    "# Import spaCy and load the language library\n",
    "import spacy"
   ]
  },
  {
   "cell_type": "code",
   "execution_count": 2,
   "metadata": {
    "execution": {
     "iopub.execute_input": "2021-02-01T15:52:54.619072Z",
     "iopub.status.busy": "2021-02-01T15:52:54.618076Z",
     "iopub.status.idle": "2021-02-01T15:53:06.446636Z",
     "shell.execute_reply": "2021-02-01T15:53:06.445634Z",
     "shell.execute_reply.started": "2021-02-01T15:52:54.619072Z"
    }
   },
   "outputs": [],
   "source": [
    "nlp = spacy.load('en_core_web_sm')"
   ]
  },
  {
   "cell_type": "code",
   "execution_count": 3,
   "metadata": {
    "execution": {
     "iopub.execute_input": "2021-02-01T15:53:06.447633Z",
     "iopub.status.busy": "2021-02-01T15:53:06.447633Z",
     "iopub.status.idle": "2021-02-01T15:53:06.478554Z",
     "shell.execute_reply": "2021-02-01T15:53:06.477572Z",
     "shell.execute_reply.started": "2021-02-01T15:53:06.447633Z"
    }
   },
   "outputs": [],
   "source": [
    "# Create a Doc object\n",
    "doc = nlp(u'Tesla is looking at buying U.S. startup for $6 million')"
   ]
  },
  {
   "cell_type": "code",
   "execution_count": 4,
   "metadata": {
    "execution": {
     "iopub.execute_input": "2021-02-01T15:53:07.703743Z",
     "iopub.status.busy": "2021-02-01T15:53:07.702726Z",
     "iopub.status.idle": "2021-02-01T15:53:07.724220Z",
     "shell.execute_reply": "2021-02-01T15:53:07.723188Z",
     "shell.execute_reply.started": "2021-02-01T15:53:07.703743Z"
    }
   },
   "outputs": [
    {
     "name": "stdout",
     "output_type": "stream",
     "text": [
      "Tesla\n",
      "is\n",
      "looking\n",
      "at\n",
      "buying\n",
      "U.S.\n",
      "startup\n",
      "for\n",
      "$\n",
      "6\n",
      "million\n"
     ]
    }
   ],
   "source": [
    "for token in doc:\n",
    "    print(token.text)"
   ]
  },
  {
   "cell_type": "code",
   "execution_count": 8,
   "metadata": {
    "execution": {
     "iopub.execute_input": "2021-02-01T15:56:11.329214Z",
     "iopub.status.busy": "2021-02-01T15:56:11.328217Z",
     "iopub.status.idle": "2021-02-01T15:56:11.340187Z",
     "shell.execute_reply": "2021-02-01T15:56:11.339190Z",
     "shell.execute_reply.started": "2021-02-01T15:56:11.329214Z"
    }
   },
   "outputs": [
    {
     "name": "stdout",
     "output_type": "stream",
     "text": [
      "Tesla          PROPN          nsubj\n",
      "is             AUX            aux\n",
      "looking        VERB           ROOT\n",
      "at             ADP            prep\n",
      "buying         VERB           pcomp\n",
      "U.S.           PROPN          compound\n",
      "startup        NOUN           dobj\n",
      "for            ADP            prep\n",
      "$              SYM            quantmod\n",
      "6              NUM            compound\n",
      "million        NUM            pobj\n"
     ]
    }
   ],
   "source": [
    "# Print each token separately\n",
    "for token in doc:\n",
    "    print(f\"{token.text:{15}}{token.pos_:{15}}{token.dep_}\")"
   ]
  },
  {
   "cell_type": "markdown",
   "metadata": {},
   "source": [
    "This doesn't look very user-friendly, but right away we see some interesting things happen:\n",
    "1. Tesla is recognized to be a Proper Noun, not just a word at the start of a sentence\n",
    "2. U.S. is kept together as one entity (we call this a 'token')\n",
    "\n",
    "As we dive deeper into spaCy we'll see what each of these abbreviations mean and how they're derived. We'll also see how spaCy can interpret the last three tokens combined `$6 million` as referring to ***money***."
   ]
  },
  {
   "cell_type": "markdown",
   "metadata": {},
   "source": [
    "___\n",
    "# spaCy Objects\n",
    "\n",
    "After importing the spacy module in the cell above we loaded a **model** and named it `nlp`.<br>Next we created a **Doc** object by applying the model to our text, and named it `doc`.<br>spaCy also builds a companion **Vocab** object that we'll cover in later sections.<br>The **Doc** object that holds the processed text is our focus here."
   ]
  },
  {
   "cell_type": "markdown",
   "metadata": {},
   "source": [
    "___\n",
    "# Pipeline\n",
    "When we run `nlp`, our text enters a *processing pipeline* that first breaks down the text and then performs a series of operations to tag, parse and describe the data.   Image source: https://spacy.io/usage/spacy-101#pipelines"
   ]
  },
  {
   "cell_type": "markdown",
   "metadata": {},
   "source": [
    "<img src=\"pipeline1.png\" width=\"600\">"
   ]
  },
  {
   "cell_type": "markdown",
   "metadata": {},
   "source": [
    "We can check to see what components currently live in the pipeline. In later sections we'll learn how to disable components and add new ones as needed."
   ]
  },
  {
   "cell_type": "code",
   "execution_count": 9,
   "metadata": {
    "execution": {
     "iopub.execute_input": "2021-02-01T15:57:14.361805Z",
     "iopub.status.busy": "2021-02-01T15:57:14.361805Z",
     "iopub.status.idle": "2021-02-01T15:57:14.381745Z",
     "shell.execute_reply": "2021-02-01T15:57:14.380777Z",
     "shell.execute_reply.started": "2021-02-01T15:57:14.361805Z"
    }
   },
   "outputs": [
    {
     "data": {
      "text/plain": [
       "[('tagger', <spacy.pipeline.pipes.Tagger at 0x1c081404520>),\n",
       " ('parser', <spacy.pipeline.pipes.DependencyParser at 0x1c0812a6340>),\n",
       " ('ner', <spacy.pipeline.pipes.EntityRecognizer at 0x1c0812cd940>)]"
      ]
     },
     "execution_count": 9,
     "metadata": {},
     "output_type": "execute_result"
    }
   ],
   "source": [
    "nlp.pipeline"
   ]
  },
  {
   "cell_type": "code",
   "execution_count": 10,
   "metadata": {
    "execution": {
     "iopub.execute_input": "2021-02-01T15:57:18.173287Z",
     "iopub.status.busy": "2021-02-01T15:57:18.173287Z",
     "iopub.status.idle": "2021-02-01T15:57:18.186238Z",
     "shell.execute_reply": "2021-02-01T15:57:18.185224Z",
     "shell.execute_reply.started": "2021-02-01T15:57:18.173287Z"
    }
   },
   "outputs": [
    {
     "data": {
      "text/plain": [
       "['tagger', 'parser', 'ner']"
      ]
     },
     "execution_count": 10,
     "metadata": {},
     "output_type": "execute_result"
    }
   ],
   "source": [
    "nlp.pipe_names"
   ]
  },
  {
   "cell_type": "markdown",
   "metadata": {},
   "source": [
    "___\n",
    "## Tokenization\n",
    "The first step in processing text is to split up all the component parts (words & punctuation) into \"tokens\". These tokens are annotated inside the Doc object to contain descriptive information. We'll go into much more detail on tokenization in an upcoming lecture. For now, let's look at another example:"
   ]
  },
  {
   "cell_type": "code",
   "execution_count": 11,
   "metadata": {
    "execution": {
     "iopub.execute_input": "2021-02-01T15:58:10.197116Z",
     "iopub.status.busy": "2021-02-01T15:58:10.196062Z",
     "iopub.status.idle": "2021-02-01T15:58:10.230361Z",
     "shell.execute_reply": "2021-02-01T15:58:10.229364Z",
     "shell.execute_reply.started": "2021-02-01T15:58:10.197116Z"
    }
   },
   "outputs": [
    {
     "name": "stdout",
     "output_type": "stream",
     "text": [
      "Tesla          PROPN          nsubj\n",
      "is             AUX            aux\n",
      "n't            PART           neg\n",
      "               SPACE          \n",
      "looking        VERB           ROOT\n",
      "into           ADP            prep\n",
      "startups       NOUN           pobj\n",
      "anymore        ADV            advmod\n",
      ".              PUNCT          punct\n"
     ]
    }
   ],
   "source": [
    "doc2 = nlp(u\"Tesla isn't   looking into startups anymore.\")\n",
    "\n",
    "for token in doc2:\n",
    "    print(f\"{token.text:{15}}{token.pos_:{15}}{token.dep_}\")"
   ]
  },
  {
   "cell_type": "markdown",
   "metadata": {},
   "source": [
    "Notice how `isn't` has been split into two tokens. spaCy recognizes both the root verb `is` and the negation attached to it. Notice also that both the extended whitespace and the period at the end of the sentence are assigned their own tokens.\n",
    "\n",
    "It's important to note that even though `doc2` contains processed information about each token, it also retains the original text:"
   ]
  },
  {
   "cell_type": "code",
   "execution_count": 12,
   "metadata": {
    "execution": {
     "iopub.execute_input": "2021-02-01T16:02:35.855671Z",
     "iopub.status.busy": "2021-02-01T16:02:35.854674Z",
     "iopub.status.idle": "2021-02-01T16:02:35.870753Z",
     "shell.execute_reply": "2021-02-01T16:02:35.869746Z",
     "shell.execute_reply.started": "2021-02-01T16:02:35.855671Z"
    }
   },
   "outputs": [
    {
     "data": {
      "text/plain": [
       "Tesla isn't   looking into startups anymore."
      ]
     },
     "execution_count": 12,
     "metadata": {},
     "output_type": "execute_result"
    }
   ],
   "source": [
    "doc2"
   ]
  },
  {
   "cell_type": "code",
   "execution_count": 13,
   "metadata": {
    "execution": {
     "iopub.execute_input": "2021-02-01T16:02:36.486518Z",
     "iopub.status.busy": "2021-02-01T16:02:36.486518Z",
     "iopub.status.idle": "2021-02-01T16:02:36.494462Z",
     "shell.execute_reply": "2021-02-01T16:02:36.493463Z",
     "shell.execute_reply.started": "2021-02-01T16:02:36.486518Z"
    }
   },
   "outputs": [
    {
     "data": {
      "text/plain": [
       "Tesla"
      ]
     },
     "execution_count": 13,
     "metadata": {},
     "output_type": "execute_result"
    }
   ],
   "source": [
    "doc2[0]"
   ]
  },
  {
   "cell_type": "code",
   "execution_count": 14,
   "metadata": {
    "execution": {
     "iopub.execute_input": "2021-02-01T16:02:38.858448Z",
     "iopub.status.busy": "2021-02-01T16:02:38.858448Z",
     "iopub.status.idle": "2021-02-01T16:02:38.878393Z",
     "shell.execute_reply": "2021-02-01T16:02:38.877406Z",
     "shell.execute_reply.started": "2021-02-01T16:02:38.858448Z"
    }
   },
   "outputs": [
    {
     "data": {
      "text/plain": [
       "spacy.tokens.doc.Doc"
      ]
     },
     "execution_count": 14,
     "metadata": {},
     "output_type": "execute_result"
    }
   ],
   "source": [
    "type(doc2)"
   ]
  },
  {
   "cell_type": "code",
   "execution_count": 15,
   "metadata": {
    "execution": {
     "iopub.execute_input": "2021-02-01T16:02:49.363697Z",
     "iopub.status.busy": "2021-02-01T16:02:49.362698Z",
     "iopub.status.idle": "2021-02-01T16:02:49.374676Z",
     "shell.execute_reply": "2021-02-01T16:02:49.373669Z",
     "shell.execute_reply.started": "2021-02-01T16:02:49.363697Z"
    }
   },
   "outputs": [
    {
     "data": {
      "text/plain": [
       "n't   looking"
      ]
     },
     "execution_count": 15,
     "metadata": {},
     "output_type": "execute_result"
    }
   ],
   "source": [
    "doc2[2:5]"
   ]
  },
  {
   "cell_type": "markdown",
   "metadata": {},
   "source": [
    "___\n",
    "## Part-of-Speech Tagging (POS)\n",
    "The next step after splitting the text up into tokens is to assign parts of speech. In the above example, `Tesla` was recognized to be a ***proper noun***. Here some statistical modeling is required. For example, words that follow \"the\" are typically nouns.\n",
    "\n",
    "For a full list of POS Tags visit https://spacy.io/api/annotation#pos-tagging"
   ]
  },
  {
   "cell_type": "code",
   "execution_count": 16,
   "metadata": {
    "execution": {
     "iopub.execute_input": "2021-02-01T16:03:27.921135Z",
     "iopub.status.busy": "2021-02-01T16:03:27.921135Z",
     "iopub.status.idle": "2021-02-01T16:03:27.934106Z",
     "shell.execute_reply": "2021-02-01T16:03:27.933116Z",
     "shell.execute_reply.started": "2021-02-01T16:03:27.921135Z"
    }
   },
   "outputs": [
    {
     "data": {
      "text/plain": [
       "'PROPN'"
      ]
     },
     "execution_count": 16,
     "metadata": {},
     "output_type": "execute_result"
    }
   ],
   "source": [
    "doc2[0].pos_"
   ]
  },
  {
   "cell_type": "markdown",
   "metadata": {},
   "source": [
    "___\n",
    "## Dependencies\n",
    "We also looked at the syntactic dependencies assigned to each token. `Tesla` is identified as an `nsubj` or the ***nominal subject*** of the sentence.\n",
    "\n",
    "For a full list of Syntactic Dependencies visit https://spacy.io/api/annotation#dependency-parsing\n",
    "<br>A good explanation of typed dependencies can be found [here](https://nlp.stanford.edu/software/dependencies_manual.pdf)"
   ]
  },
  {
   "cell_type": "code",
   "execution_count": 18,
   "metadata": {
    "execution": {
     "iopub.execute_input": "2021-02-01T16:06:35.858900Z",
     "iopub.status.busy": "2021-02-01T16:06:35.858900Z",
     "iopub.status.idle": "2021-02-01T16:06:35.868874Z",
     "shell.execute_reply": "2021-02-01T16:06:35.867877Z",
     "shell.execute_reply.started": "2021-02-01T16:06:35.858900Z"
    }
   },
   "outputs": [
    {
     "data": {
      "text/plain": [
       "'nsubj'"
      ]
     },
     "execution_count": 18,
     "metadata": {},
     "output_type": "execute_result"
    }
   ],
   "source": [
    "doc2[0].dep_"
   ]
  },
  {
   "cell_type": "markdown",
   "metadata": {},
   "source": [
    "To see the full name of a tag use `spacy.explain(tag)`"
   ]
  },
  {
   "cell_type": "code",
   "execution_count": 19,
   "metadata": {
    "execution": {
     "iopub.execute_input": "2021-02-01T16:06:37.045343Z",
     "iopub.status.busy": "2021-02-01T16:06:37.045343Z",
     "iopub.status.idle": "2021-02-01T16:06:37.053321Z",
     "shell.execute_reply": "2021-02-01T16:06:37.052323Z",
     "shell.execute_reply.started": "2021-02-01T16:06:37.045343Z"
    }
   },
   "outputs": [
    {
     "data": {
      "text/plain": [
       "'proper noun'"
      ]
     },
     "execution_count": 19,
     "metadata": {},
     "output_type": "execute_result"
    }
   ],
   "source": [
    "spacy.explain('PROPN')"
   ]
  },
  {
   "cell_type": "code",
   "execution_count": 20,
   "metadata": {
    "execution": {
     "iopub.execute_input": "2021-02-01T16:06:46.097427Z",
     "iopub.status.busy": "2021-02-01T16:06:46.097427Z",
     "iopub.status.idle": "2021-02-01T16:06:46.116375Z",
     "shell.execute_reply": "2021-02-01T16:06:46.115409Z",
     "shell.execute_reply.started": "2021-02-01T16:06:46.097427Z"
    }
   },
   "outputs": [
    {
     "data": {
      "text/plain": [
       "'nominal subject'"
      ]
     },
     "execution_count": 20,
     "metadata": {},
     "output_type": "execute_result"
    }
   ],
   "source": [
    "spacy.explain('nsubj')"
   ]
  },
  {
   "cell_type": "markdown",
   "metadata": {},
   "source": [
    "___\n",
    "## Additional Token Attributes\n",
    "We'll see these again in upcoming lectures. For now we just want to illustrate some of the other information that spaCy assigns to tokens:"
   ]
  },
  {
   "cell_type": "markdown",
   "metadata": {},
   "source": [
    "|Tag|Description|doc2[0].tag|\n",
    "|:------|:------:|:------|\n",
    "|`.text`|The original word text<!-- .element: style=\"text-align:left;\" -->|`Tesla`|\n",
    "|`.lemma_`|The base form of the word|`tesla`|\n",
    "|`.pos_`|The simple part-of-speech tag|`PROPN`/`proper noun`|\n",
    "|`.tag_`|The detailed part-of-speech tag|`NNP`/`noun, proper singular`|\n",
    "|`.shape_`|The word shape – capitalization, punctuation, digits|`Xxxxx`|\n",
    "|`.is_alpha`|Is the token an alpha character?|`True`|\n",
    "|`.is_stop`|Is the token part of a stop list, i.e. the most common words of the language?|`False`|"
   ]
  },
  {
   "cell_type": "code",
   "execution_count": 21,
   "metadata": {
    "execution": {
     "iopub.execute_input": "2021-02-01T16:09:00.830628Z",
     "iopub.status.busy": "2021-02-01T16:09:00.830628Z",
     "iopub.status.idle": "2021-02-01T16:09:00.847581Z",
     "shell.execute_reply": "2021-02-01T16:09:00.846586Z",
     "shell.execute_reply.started": "2021-02-01T16:09:00.830628Z"
    }
   },
   "outputs": [
    {
     "name": "stdout",
     "output_type": "stream",
     "text": [
      "looking\n",
      "look\n"
     ]
    }
   ],
   "source": [
    "# Lemmas (the base form of the word):\n",
    "print(doc2[4].text)\n",
    "print(doc2[4].lemma_)"
   ]
  },
  {
   "cell_type": "code",
   "execution_count": 22,
   "metadata": {
    "execution": {
     "iopub.execute_input": "2021-02-01T16:09:27.377097Z",
     "iopub.status.busy": "2021-02-01T16:09:27.376074Z",
     "iopub.status.idle": "2021-02-01T16:09:27.399015Z",
     "shell.execute_reply": "2021-02-01T16:09:27.398029Z",
     "shell.execute_reply.started": "2021-02-01T16:09:27.377097Z"
    }
   },
   "outputs": [
    {
     "name": "stdout",
     "output_type": "stream",
     "text": [
      "VERB\n",
      "VBG : verb, gerund or present participle\n"
     ]
    }
   ],
   "source": [
    "# Simple Parts-of-Speech & Detailed Tags:\n",
    "print(doc2[4].pos_)\n",
    "print(doc2[4].tag_ + ' : ' + spacy.explain(doc2[4].tag_))"
   ]
  },
  {
   "cell_type": "code",
   "execution_count": 23,
   "metadata": {
    "execution": {
     "iopub.execute_input": "2021-02-01T16:12:06.921395Z",
     "iopub.status.busy": "2021-02-01T16:12:06.921395Z",
     "iopub.status.idle": "2021-02-01T16:12:06.931371Z",
     "shell.execute_reply": "2021-02-01T16:12:06.930371Z",
     "shell.execute_reply.started": "2021-02-01T16:12:06.921395Z"
    }
   },
   "outputs": [
    {
     "name": "stdout",
     "output_type": "stream",
     "text": [
      "Tesla: Xxxxx\n",
      "U.S. : X.X.\n"
     ]
    }
   ],
   "source": [
    "# Word Shapes:\n",
    "print(doc2[0].text + ': ' + doc2[0].shape_)\n",
    "print(doc[5].text + ' : ' + doc[5].shape_)"
   ]
  },
  {
   "cell_type": "code",
   "execution_count": 24,
   "metadata": {
    "execution": {
     "iopub.execute_input": "2021-02-01T16:12:51.240007Z",
     "iopub.status.busy": "2021-02-01T16:12:51.239003Z",
     "iopub.status.idle": "2021-02-01T16:12:51.253962Z",
     "shell.execute_reply": "2021-02-01T16:12:51.252965Z",
     "shell.execute_reply.started": "2021-02-01T16:12:51.240007Z"
    }
   },
   "outputs": [
    {
     "name": "stdout",
     "output_type": "stream",
     "text": [
      "True\n",
      "False\n"
     ]
    }
   ],
   "source": [
    "# Boolean Values:\n",
    "print(doc2[0].is_alpha)\n",
    "print(doc2[0].is_stop)"
   ]
  },
  {
   "cell_type": "markdown",
   "metadata": {},
   "source": [
    "___\n",
    "## Spans\n",
    "Large Doc objects can be hard to work with at times. A **span** is a slice of Doc object in the form `Doc[start:stop]`."
   ]
  },
  {
   "cell_type": "code",
   "execution_count": 25,
   "metadata": {
    "execution": {
     "iopub.execute_input": "2021-02-01T16:12:58.001040Z",
     "iopub.status.busy": "2021-02-01T16:12:58.000042Z",
     "iopub.status.idle": "2021-02-01T16:12:58.036942Z",
     "shell.execute_reply": "2021-02-01T16:12:58.035944Z",
     "shell.execute_reply.started": "2021-02-01T16:12:58.001040Z"
    }
   },
   "outputs": [],
   "source": [
    "doc3 = nlp(u'Although commmonly attributed to John Lennon from his song \"Beautiful Boy\", \\\n",
    "the phrase \"Life is what happens to us while we are making other plans\" was written by \\\n",
    "cartoonist Allen Saunders and published in Reader\\'s Digest in 1957, when Lennon was 17.')"
   ]
  },
  {
   "cell_type": "code",
   "execution_count": 26,
   "metadata": {
    "execution": {
     "iopub.execute_input": "2021-02-01T16:12:58.501295Z",
     "iopub.status.busy": "2021-02-01T16:12:58.501295Z",
     "iopub.status.idle": "2021-02-01T16:12:58.510246Z",
     "shell.execute_reply": "2021-02-01T16:12:58.508256Z",
     "shell.execute_reply.started": "2021-02-01T16:12:58.501295Z"
    }
   },
   "outputs": [
    {
     "name": "stdout",
     "output_type": "stream",
     "text": [
      "\"Life is what happens to us while we are making other plans\"\n"
     ]
    }
   ],
   "source": [
    "life_quote = doc3[16:30]\n",
    "print(life_quote)"
   ]
  },
  {
   "cell_type": "code",
   "execution_count": 27,
   "metadata": {
    "execution": {
     "iopub.execute_input": "2021-02-01T16:12:59.828328Z",
     "iopub.status.busy": "2021-02-01T16:12:59.828328Z",
     "iopub.status.idle": "2021-02-01T16:12:59.849281Z",
     "shell.execute_reply": "2021-02-01T16:12:59.848275Z",
     "shell.execute_reply.started": "2021-02-01T16:12:59.828328Z"
    }
   },
   "outputs": [
    {
     "data": {
      "text/plain": [
       "spacy.tokens.span.Span"
      ]
     },
     "execution_count": 27,
     "metadata": {},
     "output_type": "execute_result"
    }
   ],
   "source": [
    "type(life_quote)"
   ]
  },
  {
   "cell_type": "markdown",
   "metadata": {},
   "source": [
    "In upcoming lectures we'll see how to create Span objects using `Span()`. This will allow us to assign additional information to the Span."
   ]
  },
  {
   "cell_type": "markdown",
   "metadata": {},
   "source": [
    "___\n",
    "## Sentences\n",
    "Certain tokens inside a Doc object may also receive a \"start of sentence\" tag. While this doesn't immediately build a list of sentences, these tags enable the generation of sentence segments through `Doc.sents`. Later we'll write our own segmentation rules."
   ]
  },
  {
   "cell_type": "code",
   "execution_count": 28,
   "metadata": {
    "execution": {
     "iopub.execute_input": "2021-02-01T16:13:30.134696Z",
     "iopub.status.busy": "2021-02-01T16:13:30.133684Z",
     "iopub.status.idle": "2021-02-01T16:13:30.160611Z",
     "shell.execute_reply": "2021-02-01T16:13:30.159637Z",
     "shell.execute_reply.started": "2021-02-01T16:13:30.134696Z"
    }
   },
   "outputs": [],
   "source": [
    "doc4 = nlp(u'This is the first sentence. This is another sentence. This is the last sentence.')"
   ]
  },
  {
   "cell_type": "code",
   "execution_count": 29,
   "metadata": {
    "execution": {
     "iopub.execute_input": "2021-02-01T16:13:35.488800Z",
     "iopub.status.busy": "2021-02-01T16:13:35.488800Z",
     "iopub.status.idle": "2021-02-01T16:13:35.508747Z",
     "shell.execute_reply": "2021-02-01T16:13:35.507749Z",
     "shell.execute_reply.started": "2021-02-01T16:13:35.488800Z"
    }
   },
   "outputs": [
    {
     "name": "stdout",
     "output_type": "stream",
     "text": [
      "This is the first sentence.\n",
      "This is another sentence.\n",
      "This is the last sentence.\n"
     ]
    }
   ],
   "source": [
    "for sent in doc4.sents:\n",
    "    print(sent)"
   ]
  },
  {
   "cell_type": "code",
   "execution_count": 30,
   "metadata": {
    "execution": {
     "iopub.execute_input": "2021-02-01T16:13:39.889804Z",
     "iopub.status.busy": "2021-02-01T16:13:39.889804Z",
     "iopub.status.idle": "2021-02-01T16:13:39.900776Z",
     "shell.execute_reply": "2021-02-01T16:13:39.899778Z",
     "shell.execute_reply.started": "2021-02-01T16:13:39.889804Z"
    }
   },
   "outputs": [
    {
     "data": {
      "text/plain": [
       "True"
      ]
     },
     "execution_count": 30,
     "metadata": {},
     "output_type": "execute_result"
    }
   ],
   "source": [
    "doc4[6].is_sent_start"
   ]
  }
 ],
 "metadata": {
  "kernelspec": {
   "display_name": "Python 3",
   "language": "python",
   "name": "python3"
  },
  "language_info": {
   "codemirror_mode": {
    "name": "ipython",
    "version": 3
   },
   "file_extension": ".py",
   "mimetype": "text/x-python",
   "name": "python",
   "nbconvert_exporter": "python",
   "pygments_lexer": "ipython3",
   "version": "3.8.6"
  }
 },
 "nbformat": 4,
 "nbformat_minor": 4
}
