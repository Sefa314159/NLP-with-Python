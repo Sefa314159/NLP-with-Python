{
 "cells": [
  {
   "cell_type": "markdown",
   "metadata": {},
   "source": [
    "# Stemming\n",
    "Often when searching text for a certain keyword, it helps if the search returns variations of the word. For instance, searching for \"boat\" might also return \"boats\" and \"boating\". Here, \"boat\" would be the **stem** for [boat, boater, boating, boats].\n",
    "\n",
    "Stemming is a somewhat crude method for cataloging related words; it essentially chops off letters from the end until the stem is reached. This works fairly well in most cases, but unfortunately English has many exceptions where a more sophisticated process is required. In fact, spaCy doesn't include a stemmer, opting instead to rely entirely on lemmatization. For those interested, there's some background on this decision [here](https://github.com/explosion/spaCy/issues/327). We discuss the virtues of *lemmatization* in the next section.\n",
    "\n",
    "Instead, we'll use another popular NLP tool called **nltk**, which stands for *Natural Language Toolkit*. For more information on nltk visit https://www.nltk.org/"
   ]
  },
  {
   "cell_type": "markdown",
   "metadata": {},
   "source": [
    "## Porter Stemmer\n",
    "\n",
    "One of the most common - and effective - stemming tools is [*Porter's Algorithm*](https://tartarus.org/martin/PorterStemmer/) developed by Martin Porter in [1980](https://tartarus.org/martin/PorterStemmer/def.txt). The algorithm employs five phases of word reduction, each with its own set of mapping rules. In the first phase, simple suffix mapping rules are defined, such as:"
   ]
  },
  {
   "cell_type": "markdown",
   "metadata": {},
   "source": [
    "![stemming1.png](stemming1.png)"
   ]
  },
  {
   "cell_type": "markdown",
   "metadata": {},
   "source": [
    "From a given set of stemming rules only one rule is applied, based on the longest suffix S1. Thus, `caresses` reduces to `caress` but not `cares`.\n",
    "\n",
    "More sophisticated phases consider the length/complexity of the word before applying a rule. For example:"
   ]
  },
  {
   "cell_type": "markdown",
   "metadata": {},
   "source": [
    "![stemming1.png](stemming2.png)"
   ]
  },
  {
   "cell_type": "markdown",
   "metadata": {},
   "source": [
    "Here `m>0` describes the \"measure\" of the stem, such that the rule is applied to all but the most basic stems."
   ]
  },
  {
   "cell_type": "code",
   "execution_count": 1,
   "metadata": {
    "execution": {
     "iopub.execute_input": "2021-02-01T17:39:18.022997Z",
     "iopub.status.busy": "2021-02-01T17:39:18.022997Z",
     "iopub.status.idle": "2021-02-01T17:39:20.169796Z",
     "shell.execute_reply": "2021-02-01T17:39:20.168815Z",
     "shell.execute_reply.started": "2021-02-01T17:39:18.022997Z"
    }
   },
   "outputs": [],
   "source": [
    "# Import the toolkit and the full Porter Stemmer library\n",
    "import nltk\n",
    "\n",
    "from nltk.stem.porter import *"
   ]
  },
  {
   "cell_type": "code",
   "execution_count": 2,
   "metadata": {
    "execution": {
     "iopub.execute_input": "2021-02-01T17:39:20.171790Z",
     "iopub.status.busy": "2021-02-01T17:39:20.171790Z",
     "iopub.status.idle": "2021-02-01T17:39:20.186423Z",
     "shell.execute_reply": "2021-02-01T17:39:20.184431Z",
     "shell.execute_reply.started": "2021-02-01T17:39:20.171790Z"
    }
   },
   "outputs": [],
   "source": [
    "p_stemmer = PorterStemmer()"
   ]
  },
  {
   "cell_type": "code",
   "execution_count": 3,
   "metadata": {
    "execution": {
     "iopub.execute_input": "2021-02-01T17:39:20.189416Z",
     "iopub.status.busy": "2021-02-01T17:39:20.188418Z",
     "iopub.status.idle": "2021-02-01T17:39:20.200386Z",
     "shell.execute_reply": "2021-02-01T17:39:20.199387Z",
     "shell.execute_reply.started": "2021-02-01T17:39:20.189416Z"
    }
   },
   "outputs": [],
   "source": [
    "words = ['run', 'runner', 'running', 'ran', 'runs', 'easily', 'fairly']"
   ]
  },
  {
   "cell_type": "code",
   "execution_count": 4,
   "metadata": {
    "execution": {
     "iopub.execute_input": "2021-02-01T17:39:20.204377Z",
     "iopub.status.busy": "2021-02-01T17:39:20.203380Z",
     "iopub.status.idle": "2021-02-01T17:39:20.216346Z",
     "shell.execute_reply": "2021-02-01T17:39:20.215345Z",
     "shell.execute_reply.started": "2021-02-01T17:39:20.204377Z"
    }
   },
   "outputs": [
    {
     "name": "stdout",
     "output_type": "stream",
     "text": [
      "run     ----> run\n",
      "runner  ----> runner\n",
      "running ----> run\n",
      "ran     ----> ran\n",
      "runs    ----> run\n",
      "easily  ----> easili\n",
      "fairly  ----> fairli\n"
     ]
    }
   ],
   "source": [
    "for word in words:\n",
    "    print(f\"{word:{7}} ----> {p_stemmer.stem(word)}\")"
   ]
  },
  {
   "cell_type": "markdown",
   "metadata": {},
   "source": [
    "<font color=green>Note how the stemmer recognizes \"runner\" as a noun, not a verb form or participle. Also, the adverbs \"easily\" and \"fairly\" are stemmed to the unusual root \"easili\" and \"fairli\"</font>\n",
    "___"
   ]
  },
  {
   "cell_type": "markdown",
   "metadata": {},
   "source": [
    "## Snowball Stemmer\n",
    "This is somewhat of a misnomer, as Snowball is the name of a stemming language developed by Martin Porter. The algorithm used here is more acurately called the \"English Stemmer\" or \"Porter2 Stemmer\". It offers a slight improvement over the original Porter stemmer, both in logic and speed. Since **nltk** uses the name SnowballStemmer, we'll use it here."
   ]
  },
  {
   "cell_type": "code",
   "execution_count": 5,
   "metadata": {
    "execution": {
     "iopub.execute_input": "2021-02-01T17:39:20.219334Z",
     "iopub.status.busy": "2021-02-01T17:39:20.218338Z",
     "iopub.status.idle": "2021-02-01T17:39:20.232299Z",
     "shell.execute_reply": "2021-02-01T17:39:20.231302Z",
     "shell.execute_reply.started": "2021-02-01T17:39:20.218338Z"
    }
   },
   "outputs": [],
   "source": [
    "from nltk.stem.snowball import SnowballStemmer\n",
    "\n",
    "# The Snowball Stemmer requires that you pass a language parameter\n",
    "s_stemmer = SnowballStemmer(language = 'english')"
   ]
  },
  {
   "cell_type": "code",
   "execution_count": 6,
   "metadata": {
    "execution": {
     "iopub.execute_input": "2021-02-01T17:39:20.234296Z",
     "iopub.status.busy": "2021-02-01T17:39:20.233298Z",
     "iopub.status.idle": "2021-02-01T17:39:20.247285Z",
     "shell.execute_reply": "2021-02-01T17:39:20.246290Z",
     "shell.execute_reply.started": "2021-02-01T17:39:20.234296Z"
    }
   },
   "outputs": [],
   "source": [
    "words = ['run', 'runner', 'running', 'ran', 'runs', 'easily', 'fairly']\n",
    "# words = ['generous', 'generation', 'generously', 'generate']"
   ]
  },
  {
   "cell_type": "code",
   "execution_count": 7,
   "metadata": {
    "execution": {
     "iopub.execute_input": "2021-02-01T17:39:20.248283Z",
     "iopub.status.busy": "2021-02-01T17:39:20.247285Z",
     "iopub.status.idle": "2021-02-01T17:39:20.262220Z",
     "shell.execute_reply": "2021-02-01T17:39:20.261226Z",
     "shell.execute_reply.started": "2021-02-01T17:39:20.248283Z"
    }
   },
   "outputs": [
    {
     "name": "stdout",
     "output_type": "stream",
     "text": [
      "run     ----> run\n",
      "runner  ----> runner\n",
      "running ----> run\n",
      "ran     ----> ran\n",
      "runs    ----> run\n",
      "easily  ----> easili\n",
      "fairly  ----> fair\n"
     ]
    }
   ],
   "source": [
    "for word in words:\n",
    "    print(f\"{word:{7}} ----> {s_stemmer.stem(word)}\")"
   ]
  },
  {
   "cell_type": "code",
   "execution_count": 8,
   "metadata": {
    "execution": {
     "iopub.execute_input": "2021-02-01T17:39:20.264214Z",
     "iopub.status.busy": "2021-02-01T17:39:20.264214Z",
     "iopub.status.idle": "2021-02-01T17:39:20.277180Z",
     "shell.execute_reply": "2021-02-01T17:39:20.276182Z",
     "shell.execute_reply.started": "2021-02-01T17:39:20.264214Z"
    }
   },
   "outputs": [
    {
     "name": "stdout",
     "output_type": "stream",
     "text": [
      "generous   ----> gener\n",
      "generation ----> gener\n",
      "generously ----> gener\n",
      "generate   ----> gener\n"
     ]
    }
   ],
   "source": [
    "words = ['generous', 'generation', 'generously', 'generate']\n",
    "for word in words:\n",
    "    print(f\"{word:{10}} ----> {p_stemmer.stem(word)}\")"
   ]
  },
  {
   "cell_type": "code",
   "execution_count": 9,
   "metadata": {
    "execution": {
     "iopub.execute_input": "2021-02-01T17:39:20.280172Z",
     "iopub.status.busy": "2021-02-01T17:39:20.279175Z",
     "iopub.status.idle": "2021-02-01T17:39:20.293138Z",
     "shell.execute_reply": "2021-02-01T17:39:20.292140Z",
     "shell.execute_reply.started": "2021-02-01T17:39:20.280172Z"
    }
   },
   "outputs": [
    {
     "name": "stdout",
     "output_type": "stream",
     "text": [
      "generous   ----> generous\n",
      "generation ----> generat\n",
      "generously ----> generous\n",
      "generate   ----> generat\n"
     ]
    }
   ],
   "source": [
    "words = ['generous', 'generation', 'generously', 'generate']\n",
    "for word in words:\n",
    "    print(f\"{word:{10}} ----> {s_stemmer.stem(word)}\")"
   ]
  },
  {
   "cell_type": "markdown",
   "metadata": {},
   "source": [
    "<font color=green>In this case the stemmer performed the same as the Porter Stemmer, with the exception that it handled the stem of \"fairly\" more appropriately with \"fair\"</font>\n",
    "___"
   ]
  },
  {
   "cell_type": "markdown",
   "metadata": {},
   "source": [
    "## Try it yourself!\n",
    "#### Pass in some of your own words and test each stemmer on them. Remember to pass them as strings!"
   ]
  },
  {
   "cell_type": "code",
   "execution_count": 10,
   "metadata": {
    "execution": {
     "iopub.execute_input": "2021-02-01T17:39:20.295135Z",
     "iopub.status.busy": "2021-02-01T17:39:20.294136Z",
     "iopub.status.idle": "2021-02-01T17:39:20.308099Z",
     "shell.execute_reply": "2021-02-01T17:39:20.307101Z",
     "shell.execute_reply.started": "2021-02-01T17:39:20.295135Z"
    }
   },
   "outputs": [],
   "source": [
    "words = ['consolingly']"
   ]
  },
  {
   "cell_type": "code",
   "execution_count": 11,
   "metadata": {
    "execution": {
     "iopub.execute_input": "2021-02-01T17:39:20.309101Z",
     "iopub.status.busy": "2021-02-01T17:39:20.309101Z",
     "iopub.status.idle": "2021-02-01T17:39:20.324055Z",
     "shell.execute_reply": "2021-02-01T17:39:20.323058Z",
     "shell.execute_reply.started": "2021-02-01T17:39:20.309101Z"
    }
   },
   "outputs": [
    {
     "name": "stdout",
     "output_type": "stream",
     "text": [
      "Porter Stemmer:\n",
      "consolingly ----> consolingli\n"
     ]
    }
   ],
   "source": [
    "print('Porter Stemmer:')\n",
    "for word in words:\n",
    "    print(f\"{word:{7}} ----> {p_stemmer.stem(word)}\")"
   ]
  },
  {
   "cell_type": "code",
   "execution_count": 12,
   "metadata": {
    "execution": {
     "iopub.execute_input": "2021-02-01T17:39:20.326049Z",
     "iopub.status.busy": "2021-02-01T17:39:20.325053Z",
     "iopub.status.idle": "2021-02-01T17:39:20.339015Z",
     "shell.execute_reply": "2021-02-01T17:39:20.338019Z",
     "shell.execute_reply.started": "2021-02-01T17:39:20.326049Z"
    }
   },
   "outputs": [
    {
     "name": "stdout",
     "output_type": "stream",
     "text": [
      "Porter2 Stemmer:\n",
      "consolingly ----> consol\n"
     ]
    }
   ],
   "source": [
    "print('Porter2 Stemmer:')\n",
    "for word in words:\n",
    "    print(f\"{word:{7}} ----> {s_stemmer.stem(word)}\")"
   ]
  },
  {
   "cell_type": "markdown",
   "metadata": {},
   "source": [
    "___\n",
    "Stemming has its drawbacks. If given the token `saw`, stemming might always return `saw`, whereas lemmatization would likely return either `see` or `saw` depending on whether the use of the token was as a verb or a noun. As an example, consider the following:"
   ]
  },
  {
   "cell_type": "code",
   "execution_count": 13,
   "metadata": {
    "execution": {
     "iopub.execute_input": "2021-02-01T17:39:20.342008Z",
     "iopub.status.busy": "2021-02-01T17:39:20.341010Z",
     "iopub.status.idle": "2021-02-01T17:39:20.354973Z",
     "shell.execute_reply": "2021-02-01T17:39:20.352994Z",
     "shell.execute_reply.started": "2021-02-01T17:39:20.342008Z"
    }
   },
   "outputs": [
    {
     "name": "stdout",
     "output_type": "stream",
     "text": [
      "I        ----> I\n",
      "am       ----> am\n",
      "meeting  ----> meet\n",
      "him      ----> him\n",
      "tomorrow ----> tomorrow\n",
      "at       ----> at\n",
      "the      ----> the\n",
      "meeting  ----> meet\n"
     ]
    }
   ],
   "source": [
    "phrase = 'I am meeting him tomorrow at the meeting'\n",
    "for word in phrase.split():\n",
    "    print(f\"{word:{8}} ----> {p_stemmer.stem(word)}\")"
   ]
  },
  {
   "cell_type": "markdown",
   "metadata": {},
   "source": [
    "Here the word \"meeting\" appears twice - once as a verb, and once as a noun, and yet the stemmer treats both equally."
   ]
  }
 ],
 "metadata": {
  "kernelspec": {
   "display_name": "Python 3",
   "language": "python",
   "name": "python3"
  },
  "language_info": {
   "codemirror_mode": {
    "name": "ipython",
    "version": 3
   },
   "file_extension": ".py",
   "mimetype": "text/x-python",
   "name": "python",
   "nbconvert_exporter": "python",
   "pygments_lexer": "ipython3",
   "version": "3.8.6"
  }
 },
 "nbformat": 4,
 "nbformat_minor": 4
}
