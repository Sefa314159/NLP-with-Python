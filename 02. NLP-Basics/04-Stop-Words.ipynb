{
 "cells": [
  {
   "cell_type": "markdown",
   "metadata": {},
   "source": [
    "# Stop Words\n",
    "Words like \"a\" and \"the\" appear so frequently that they don't require tagging as thoroughly as nouns, verbs and modifiers. We call these *stop words*, and they can be filtered from the text to be processed. spaCy holds a built-in list of some 305 English stop words."
   ]
  },
  {
   "cell_type": "code",
   "execution_count": 1,
   "metadata": {
    "execution": {
     "iopub.execute_input": "2021-02-01T17:53:28.354310Z",
     "iopub.status.busy": "2021-02-01T17:53:28.351288Z",
     "iopub.status.idle": "2021-02-01T17:53:35.894431Z",
     "shell.execute_reply": "2021-02-01T17:53:35.893426Z",
     "shell.execute_reply.started": "2021-02-01T17:53:28.353316Z"
    }
   },
   "outputs": [],
   "source": [
    "# Perform standard imports:\n",
    "import spacy\n",
    "nlp = spacy.load('en_core_web_sm')"
   ]
  },
  {
   "cell_type": "code",
   "execution_count": 2,
   "metadata": {
    "execution": {
     "iopub.execute_input": "2021-02-01T17:53:35.896420Z",
     "iopub.status.busy": "2021-02-01T17:53:35.896420Z",
     "iopub.status.idle": "2021-02-01T17:53:35.910382Z",
     "shell.execute_reply": "2021-02-01T17:53:35.908387Z",
     "shell.execute_reply.started": "2021-02-01T17:53:35.896420Z"
    }
   },
   "outputs": [
    {
     "name": "stdout",
     "output_type": "stream",
     "text": [
      "{'former', '’d', 'beforehand', 'in', 'also', 'before', 'whose', 'yours', 'had', 'whence', 'while', 'off', 'move', 'ca', 'twelve', 'once', 'though', 'becomes', 'mostly', 'would', 'now', 'me', 'used', 'well', 'five', 'whenever', 'hereafter', 'whereas', 'what', 'my', 'became', 'others', 'such', 'seem', \"'m\", '’s', 'please', 'by', 'even', 'their', 'the', 'meanwhile', 'anyhow', 'toward', 'no', 'otherwise', 'third', 'thus', 'being', 'cannot', 'go', 'hence', 'wherever', 'yourselves', 'else', 'yet', 'very', 'sometime', 'one', 'quite', 'get', 'some', 'take', 'other', 'above', 'name', 'without', 'to', 'where', 'put', 'have', 'does', 'hereupon', 'except', 'only', 'when', 'these', 'becoming', 'nobody', 'never', 'rather', 'so', 'always', 'anyone', 'something', 'together', 'see', 'same', 'anything', '’re', 'any', 'was', '‘d', 'him', 'its', 'ten', 'yourself', 'nor', 'three', 'call', 'whom', 'herself', 'moreover', 'i', 'into', 'made', 'we', 'back', 'throughout', 'out', 'each', 'could', 'at', \"'re\", 'make', 'fifteen', 'our', 'various', 'you', '‘s', 'regarding', 'your', \"'s\", 'am', '‘m', 'indeed', 'up', 'thence', 'however', 'beyond', 'ever', '’ll', 'again', 'many', 'n’t', 'much', 'several', \"'ll\", 'elsewhere', 'herein', 'after', \"'d\", 'further', 'below', 'front', 'still', 'between', 'he', \"'ve\", 'full', 'nine', 'sixty', 'seems', 'against', 'myself', 'almost', 'everyone', 'been', 'all', 'doing', 'another', 'top', 'whether', 'hers', 'just', 'namely', 'next', 'both', 'did', 'done', 'perhaps', 'with', 'per', 'everywhere', 'his', 'formerly', 'behind', 'on', 'whither', 'six', 'because', 'either', 'own', 'most', 'thru', 'few', 'n‘t', 'her', 'unless', 'down', 'whole', 'via', 'two', 'itself', 'as', 'using', 'an', 'for', 'of', 'across', 'nevertheless', 'under', 'who', 'first', 'least', 'since', 'thereupon', 'keep', 'us', 'why', 'beside', 'side', 'ourselves', 'neither', 'not', 'although', 'whoever', '’ve', 'every', 'become', 'nothing', 'towards', 'already', 'seeming', 'thereby', 'hundred', 'around', 'be', 'give', 'will', 'along', 'afterwards', 'someone', 'serious', 'it', 'this', 'therefore', 'everything', 'part', 'none', 'noone', '’m', 'more', 'through', 'anyway', 'can', 'then', 'mine', 'whatever', 'were', 'whereafter', 'latterly', 'about', 'thereafter', 'from', '‘re', 'within', 'wherein', 'than', 'over', 'forty', 'amount', 'a', 'due', 'has', 'are', 'but', 'they', 'should', 'themselves', 'do', 'hereby', 'four', 'latter', 'say', 'nowhere', 'enough', 'and', \"n't\", 'therein', 'eight', 'that', 'here', 'really', 'bottom', 'often', 'there', 'empty', 'onto', 'among', 'anywhere', 're', 'must', 'during', 'himself', 'somehow', 'she', 'until', 'may', 'upon', 'those', 'eleven', 'them', '‘ll', 'whereby', 'sometimes', 'less', 'might', 'too', 'fifty', 'whereupon', 'is', 'how', 'seemed', 'twenty', 'alone', 'amongst', 'besides', 'which', 'last', 'show', 'or', 'if', 'somewhere', '‘ve', 'ours'}\n"
     ]
    }
   ],
   "source": [
    "# Print the set of spaCy's default stop words (remember that sets are unordered):\n",
    "print(nlp.Defaults.stop_words)"
   ]
  },
  {
   "cell_type": "code",
   "execution_count": 3,
   "metadata": {
    "execution": {
     "iopub.execute_input": "2021-02-01T17:53:35.915369Z",
     "iopub.status.busy": "2021-02-01T17:53:35.913375Z",
     "iopub.status.idle": "2021-02-01T17:53:35.940782Z",
     "shell.execute_reply": "2021-02-01T17:53:35.938787Z",
     "shell.execute_reply.started": "2021-02-01T17:53:35.915369Z"
    }
   },
   "outputs": [
    {
     "data": {
      "text/plain": [
       "326"
      ]
     },
     "execution_count": 3,
     "metadata": {},
     "output_type": "execute_result"
    }
   ],
   "source": [
    "len(nlp.Defaults.stop_words)"
   ]
  },
  {
   "cell_type": "markdown",
   "metadata": {},
   "source": [
    "## To see if a word is a stop word"
   ]
  },
  {
   "cell_type": "code",
   "execution_count": 4,
   "metadata": {
    "execution": {
     "iopub.execute_input": "2021-02-01T17:55:21.209440Z",
     "iopub.status.busy": "2021-02-01T17:55:21.208436Z",
     "iopub.status.idle": "2021-02-01T17:55:21.216412Z",
     "shell.execute_reply": "2021-02-01T17:55:21.215416Z",
     "shell.execute_reply.started": "2021-02-01T17:55:21.209440Z"
    }
   },
   "outputs": [
    {
     "data": {
      "text/plain": [
       "True"
      ]
     },
     "execution_count": 4,
     "metadata": {},
     "output_type": "execute_result"
    }
   ],
   "source": [
    "nlp.vocab['myself'].is_stop"
   ]
  },
  {
   "cell_type": "code",
   "execution_count": 5,
   "metadata": {
    "execution": {
     "iopub.execute_input": "2021-02-01T17:55:22.777023Z",
     "iopub.status.busy": "2021-02-01T17:55:22.776026Z",
     "iopub.status.idle": "2021-02-01T17:55:22.784005Z",
     "shell.execute_reply": "2021-02-01T17:55:22.783007Z",
     "shell.execute_reply.started": "2021-02-01T17:55:22.777023Z"
    }
   },
   "outputs": [
    {
     "data": {
      "text/plain": [
       "False"
      ]
     },
     "execution_count": 5,
     "metadata": {},
     "output_type": "execute_result"
    }
   ],
   "source": [
    "nlp.vocab['mystery'].is_stop"
   ]
  },
  {
   "cell_type": "markdown",
   "metadata": {},
   "source": [
    "## To add a stop word\n",
    "There may be times when you wish to add a stop word to the default set. Perhaps you decide that `'btw'` (common shorthand for \"by the way\") should be considered a stop word."
   ]
  },
  {
   "cell_type": "code",
   "execution_count": 6,
   "metadata": {
    "execution": {
     "iopub.execute_input": "2021-02-01T17:56:00.141936Z",
     "iopub.status.busy": "2021-02-01T17:56:00.140940Z",
     "iopub.status.idle": "2021-02-01T17:56:00.162881Z",
     "shell.execute_reply": "2021-02-01T17:56:00.161883Z",
     "shell.execute_reply.started": "2021-02-01T17:56:00.141936Z"
    }
   },
   "outputs": [],
   "source": [
    "# Add the word to the set of stop words. Use lowercase!\n",
    "nlp.Defaults.stop_words.add('btw')\n",
    "\n",
    "# Set the stop_word tag on the lexeme\n",
    "nlp.vocab['btw'].is_stop = True"
   ]
  },
  {
   "cell_type": "code",
   "execution_count": 7,
   "metadata": {
    "execution": {
     "iopub.execute_input": "2021-02-01T17:56:07.757047Z",
     "iopub.status.busy": "2021-02-01T17:56:07.756049Z",
     "iopub.status.idle": "2021-02-01T17:56:07.771010Z",
     "shell.execute_reply": "2021-02-01T17:56:07.770012Z",
     "shell.execute_reply.started": "2021-02-01T17:56:07.757047Z"
    }
   },
   "outputs": [
    {
     "data": {
      "text/plain": [
       "327"
      ]
     },
     "execution_count": 7,
     "metadata": {},
     "output_type": "execute_result"
    }
   ],
   "source": [
    "len(nlp.Defaults.stop_words)"
   ]
  },
  {
   "cell_type": "code",
   "execution_count": 8,
   "metadata": {
    "execution": {
     "iopub.execute_input": "2021-02-01T17:56:09.321197Z",
     "iopub.status.busy": "2021-02-01T17:56:09.320200Z",
     "iopub.status.idle": "2021-02-01T17:56:09.336155Z",
     "shell.execute_reply": "2021-02-01T17:56:09.335159Z",
     "shell.execute_reply.started": "2021-02-01T17:56:09.321197Z"
    }
   },
   "outputs": [
    {
     "data": {
      "text/plain": [
       "True"
      ]
     },
     "execution_count": 8,
     "metadata": {},
     "output_type": "execute_result"
    }
   ],
   "source": [
    "nlp.vocab['btw'].is_stop"
   ]
  },
  {
   "cell_type": "markdown",
   "metadata": {},
   "source": [
    "<font color=green>When adding stop words, always use lowercase. Lexemes are converted to lowercase before being added to **vocab**.</font>"
   ]
  },
  {
   "cell_type": "markdown",
   "metadata": {},
   "source": [
    "## To remove a stop word\n",
    "Alternatively, you may decide that `'beyond'` should not be considered a stop word."
   ]
  },
  {
   "cell_type": "code",
   "execution_count": 9,
   "metadata": {
    "execution": {
     "iopub.execute_input": "2021-02-01T17:56:33.692258Z",
     "iopub.status.busy": "2021-02-01T17:56:33.692258Z",
     "iopub.status.idle": "2021-02-01T17:56:33.701859Z",
     "shell.execute_reply": "2021-02-01T17:56:33.699862Z",
     "shell.execute_reply.started": "2021-02-01T17:56:33.692258Z"
    }
   },
   "outputs": [],
   "source": [
    "# Remove the word from the set of stop words\n",
    "nlp.Defaults.stop_words.remove('beyond')\n",
    "\n",
    "# Remove the stop_word tag from the lexeme\n",
    "nlp.vocab['beyond'].is_stop = False"
   ]
  },
  {
   "cell_type": "code",
   "execution_count": 10,
   "metadata": {
    "execution": {
     "iopub.execute_input": "2021-02-01T17:56:34.072165Z",
     "iopub.status.busy": "2021-02-01T17:56:34.071172Z",
     "iopub.status.idle": "2021-02-01T17:56:34.091115Z",
     "shell.execute_reply": "2021-02-01T17:56:34.090120Z",
     "shell.execute_reply.started": "2021-02-01T17:56:34.072165Z"
    }
   },
   "outputs": [
    {
     "data": {
      "text/plain": [
       "326"
      ]
     },
     "execution_count": 10,
     "metadata": {},
     "output_type": "execute_result"
    }
   ],
   "source": [
    "len(nlp.Defaults.stop_words)"
   ]
  },
  {
   "cell_type": "code",
   "execution_count": 11,
   "metadata": {
    "execution": {
     "iopub.execute_input": "2021-02-01T17:56:34.699360Z",
     "iopub.status.busy": "2021-02-01T17:56:34.698361Z",
     "iopub.status.idle": "2021-02-01T17:56:34.714314Z",
     "shell.execute_reply": "2021-02-01T17:56:34.713348Z",
     "shell.execute_reply.started": "2021-02-01T17:56:34.699360Z"
    }
   },
   "outputs": [
    {
     "data": {
      "text/plain": [
       "False"
      ]
     },
     "execution_count": 11,
     "metadata": {},
     "output_type": "execute_result"
    }
   ],
   "source": [
    "nlp.vocab['beyond'].is_stop"
   ]
  }
 ],
 "metadata": {
  "kernelspec": {
   "display_name": "Python 3",
   "language": "python",
   "name": "python3"
  },
  "language_info": {
   "codemirror_mode": {
    "name": "ipython",
    "version": 3
   },
   "file_extension": ".py",
   "mimetype": "text/x-python",
   "name": "python",
   "nbconvert_exporter": "python",
   "pygments_lexer": "ipython3",
   "version": "3.8.6"
  }
 },
 "nbformat": 4,
 "nbformat_minor": 4
}
