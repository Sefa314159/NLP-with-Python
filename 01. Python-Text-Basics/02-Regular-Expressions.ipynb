{
 "cells": [
  {
   "cell_type": "markdown",
   "metadata": {},
   "source": [
    "# Regular Expressions\n",
    "\n",
    "Regular Expressions (sometimes called regex for short) allow a user to search for strings using almost any sort of rule they can come up with. For example, finding all capital letters in a string, or finding a phone number in a document. \n",
    "\n",
    "Regular expressions are notorious for their seemingly strange syntax. This strange syntax is a byproduct of their flexibility. Regular expressions have to be able to filter out any string pattern you can imagine, which is why they have a complex string pattern format.\n",
    "\n",
    "Regular expressions are handled using Python's built-in **re** library. See [the docs](https://docs.python.org/3/library/re.html) for more information."
   ]
  },
  {
   "cell_type": "markdown",
   "metadata": {},
   "source": [
    "Let's begin by explaining how to search for basic patterns in a string!"
   ]
  },
  {
   "cell_type": "markdown",
   "metadata": {},
   "source": [
    "## Searching for Basic Patterns\n",
    "\n",
    "Let's imagine that we have the following string:"
   ]
  },
  {
   "cell_type": "code",
   "execution_count": 1,
   "metadata": {
    "execution": {
     "iopub.execute_input": "2021-02-01T12:57:33.314361Z",
     "iopub.status.busy": "2021-02-01T12:57:33.313364Z",
     "iopub.status.idle": "2021-02-01T12:57:33.326329Z",
     "shell.execute_reply": "2021-02-01T12:57:33.325332Z",
     "shell.execute_reply.started": "2021-02-01T12:57:33.314361Z"
    }
   },
   "outputs": [],
   "source": [
    "text = \"The agent's phone number is 408-555-1234. Call soon!\""
   ]
  },
  {
   "cell_type": "markdown",
   "metadata": {},
   "source": [
    "We'll start off by trying to find out if the string \"phone\" is inside the text string. Now we could quickly do this with:"
   ]
  },
  {
   "cell_type": "code",
   "execution_count": 2,
   "metadata": {
    "execution": {
     "iopub.execute_input": "2021-02-01T12:57:33.905809Z",
     "iopub.status.busy": "2021-02-01T12:57:33.904777Z",
     "iopub.status.idle": "2021-02-01T12:57:33.923726Z",
     "shell.execute_reply": "2021-02-01T12:57:33.922750Z",
     "shell.execute_reply.started": "2021-02-01T12:57:33.905809Z"
    }
   },
   "outputs": [
    {
     "data": {
      "text/plain": [
       "True"
      ]
     },
     "execution_count": 2,
     "metadata": {},
     "output_type": "execute_result"
    }
   ],
   "source": [
    "'phone' in text"
   ]
  },
  {
   "cell_type": "markdown",
   "metadata": {},
   "source": [
    "But let's show the format for regular expressions, because later on we will be searching for patterns that won't have such a simple solution."
   ]
  },
  {
   "cell_type": "code",
   "execution_count": 3,
   "metadata": {
    "execution": {
     "iopub.execute_input": "2021-02-01T12:57:34.624966Z",
     "iopub.status.busy": "2021-02-01T12:57:34.623977Z",
     "iopub.status.idle": "2021-02-01T12:57:34.632947Z",
     "shell.execute_reply": "2021-02-01T12:57:34.631947Z",
     "shell.execute_reply.started": "2021-02-01T12:57:34.623977Z"
    }
   },
   "outputs": [],
   "source": [
    "import re"
   ]
  },
  {
   "cell_type": "code",
   "execution_count": 4,
   "metadata": {
    "execution": {
     "iopub.execute_input": "2021-02-01T12:57:34.946781Z",
     "iopub.status.busy": "2021-02-01T12:57:34.945784Z",
     "iopub.status.idle": "2021-02-01T12:57:34.960743Z",
     "shell.execute_reply": "2021-02-01T12:57:34.959746Z",
     "shell.execute_reply.started": "2021-02-01T12:57:34.946781Z"
    }
   },
   "outputs": [],
   "source": [
    "pattern = 'phone'"
   ]
  },
  {
   "cell_type": "code",
   "execution_count": 5,
   "metadata": {
    "execution": {
     "iopub.execute_input": "2021-02-01T12:57:35.316138Z",
     "iopub.status.busy": "2021-02-01T12:57:35.316138Z",
     "iopub.status.idle": "2021-02-01T12:57:35.336602Z",
     "shell.execute_reply": "2021-02-01T12:57:35.335596Z",
     "shell.execute_reply.started": "2021-02-01T12:57:35.316138Z"
    }
   },
   "outputs": [
    {
     "data": {
      "text/plain": [
       "<re.Match object; span=(12, 17), match='phone'>"
      ]
     },
     "execution_count": 5,
     "metadata": {},
     "output_type": "execute_result"
    }
   ],
   "source": [
    "re.search(pattern, text)"
   ]
  },
  {
   "cell_type": "code",
   "execution_count": 6,
   "metadata": {
    "execution": {
     "iopub.execute_input": "2021-02-01T12:57:35.662598Z",
     "iopub.status.busy": "2021-02-01T12:57:35.662598Z",
     "iopub.status.idle": "2021-02-01T12:57:35.680551Z",
     "shell.execute_reply": "2021-02-01T12:57:35.679552Z",
     "shell.execute_reply.started": "2021-02-01T12:57:35.662598Z"
    }
   },
   "outputs": [],
   "source": [
    "pattern = \"NOT IN TEXT\""
   ]
  },
  {
   "cell_type": "code",
   "execution_count": 7,
   "metadata": {
    "execution": {
     "iopub.execute_input": "2021-02-01T12:57:36.036601Z",
     "iopub.status.busy": "2021-02-01T12:57:36.036601Z",
     "iopub.status.idle": "2021-02-01T12:57:36.043593Z",
     "shell.execute_reply": "2021-02-01T12:57:36.042585Z",
     "shell.execute_reply.started": "2021-02-01T12:57:36.036601Z"
    }
   },
   "outputs": [],
   "source": [
    "re.search(pattern,text)"
   ]
  },
  {
   "cell_type": "markdown",
   "metadata": {},
   "source": [
    "Now we've seen that re.search() will take the pattern, scan the text, and then returns a Match object. If no pattern is found, a None is returned (in Jupyter Notebook this just means that nothing is output below the cell).\n",
    "\n",
    "Let's take a closer look at this Match object."
   ]
  },
  {
   "cell_type": "code",
   "execution_count": 8,
   "metadata": {
    "execution": {
     "iopub.execute_input": "2021-02-01T12:57:36.782771Z",
     "iopub.status.busy": "2021-02-01T12:57:36.782771Z",
     "iopub.status.idle": "2021-02-01T12:57:36.798728Z",
     "shell.execute_reply": "2021-02-01T12:57:36.797759Z",
     "shell.execute_reply.started": "2021-02-01T12:57:36.782771Z"
    }
   },
   "outputs": [],
   "source": [
    "pattern = 'phone'"
   ]
  },
  {
   "cell_type": "code",
   "execution_count": 9,
   "metadata": {
    "execution": {
     "iopub.execute_input": "2021-02-01T12:57:37.153928Z",
     "iopub.status.busy": "2021-02-01T12:57:37.153928Z",
     "iopub.status.idle": "2021-02-01T12:57:37.160881Z",
     "shell.execute_reply": "2021-02-01T12:57:37.159884Z",
     "shell.execute_reply.started": "2021-02-01T12:57:37.153928Z"
    }
   },
   "outputs": [],
   "source": [
    "match = re.search(pattern, text)"
   ]
  },
  {
   "cell_type": "code",
   "execution_count": 10,
   "metadata": {
    "execution": {
     "iopub.execute_input": "2021-02-01T12:57:37.454869Z",
     "iopub.status.busy": "2021-02-01T12:57:37.453845Z",
     "iopub.status.idle": "2021-02-01T12:57:37.472803Z",
     "shell.execute_reply": "2021-02-01T12:57:37.471828Z",
     "shell.execute_reply.started": "2021-02-01T12:57:37.454869Z"
    }
   },
   "outputs": [
    {
     "data": {
      "text/plain": [
       "<re.Match object; span=(12, 17), match='phone'>"
      ]
     },
     "execution_count": 10,
     "metadata": {},
     "output_type": "execute_result"
    }
   ],
   "source": [
    "match"
   ]
  },
  {
   "cell_type": "markdown",
   "metadata": {},
   "source": [
    "Notice the span, there is also a start and end index information."
   ]
  },
  {
   "cell_type": "code",
   "execution_count": 11,
   "metadata": {
    "execution": {
     "iopub.execute_input": "2021-02-01T12:57:38.156883Z",
     "iopub.status.busy": "2021-02-01T12:57:38.156883Z",
     "iopub.status.idle": "2021-02-01T12:57:38.174837Z",
     "shell.execute_reply": "2021-02-01T12:57:38.173869Z",
     "shell.execute_reply.started": "2021-02-01T12:57:38.156883Z"
    }
   },
   "outputs": [
    {
     "data": {
      "text/plain": [
       "(12, 17)"
      ]
     },
     "execution_count": 11,
     "metadata": {},
     "output_type": "execute_result"
    }
   ],
   "source": [
    "match.span()"
   ]
  },
  {
   "cell_type": "code",
   "execution_count": 12,
   "metadata": {
    "execution": {
     "iopub.execute_input": "2021-02-01T12:57:38.552864Z",
     "iopub.status.busy": "2021-02-01T12:57:38.552864Z",
     "iopub.status.idle": "2021-02-01T12:57:38.568823Z",
     "shell.execute_reply": "2021-02-01T12:57:38.567858Z",
     "shell.execute_reply.started": "2021-02-01T12:57:38.552864Z"
    }
   },
   "outputs": [
    {
     "data": {
      "text/plain": [
       "12"
      ]
     },
     "execution_count": 12,
     "metadata": {},
     "output_type": "execute_result"
    }
   ],
   "source": [
    "match.start()"
   ]
  },
  {
   "cell_type": "code",
   "execution_count": 13,
   "metadata": {
    "execution": {
     "iopub.execute_input": "2021-02-01T12:57:38.923398Z",
     "iopub.status.busy": "2021-02-01T12:57:38.923398Z",
     "iopub.status.idle": "2021-02-01T12:57:38.930378Z",
     "shell.execute_reply": "2021-02-01T12:57:38.929383Z",
     "shell.execute_reply.started": "2021-02-01T12:57:38.923398Z"
    }
   },
   "outputs": [
    {
     "data": {
      "text/plain": [
       "17"
      ]
     },
     "execution_count": 13,
     "metadata": {},
     "output_type": "execute_result"
    }
   ],
   "source": [
    "match.end()"
   ]
  },
  {
   "cell_type": "markdown",
   "metadata": {},
   "source": [
    "But what if the pattern occurs more than once?"
   ]
  },
  {
   "cell_type": "code",
   "execution_count": 14,
   "metadata": {
    "execution": {
     "iopub.execute_input": "2021-02-01T12:57:39.587841Z",
     "iopub.status.busy": "2021-02-01T12:57:39.586845Z",
     "iopub.status.idle": "2021-02-01T12:57:39.603800Z",
     "shell.execute_reply": "2021-02-01T12:57:39.602801Z",
     "shell.execute_reply.started": "2021-02-01T12:57:39.587841Z"
    }
   },
   "outputs": [],
   "source": [
    "text = \"my phone is a new phone\""
   ]
  },
  {
   "cell_type": "code",
   "execution_count": 15,
   "metadata": {
    "execution": {
     "iopub.execute_input": "2021-02-01T12:57:39.877572Z",
     "iopub.status.busy": "2021-02-01T12:57:39.876574Z",
     "iopub.status.idle": "2021-02-01T12:57:39.886547Z",
     "shell.execute_reply": "2021-02-01T12:57:39.885575Z",
     "shell.execute_reply.started": "2021-02-01T12:57:39.876574Z"
    }
   },
   "outputs": [],
   "source": [
    "match = re.search(\"phone\", text)"
   ]
  },
  {
   "cell_type": "code",
   "execution_count": 16,
   "metadata": {
    "execution": {
     "iopub.execute_input": "2021-02-01T12:57:40.163773Z",
     "iopub.status.busy": "2021-02-01T12:57:40.162776Z",
     "iopub.status.idle": "2021-02-01T12:57:40.185235Z",
     "shell.execute_reply": "2021-02-01T12:57:40.184241Z",
     "shell.execute_reply.started": "2021-02-01T12:57:40.163773Z"
    }
   },
   "outputs": [
    {
     "data": {
      "text/plain": [
       "(3, 8)"
      ]
     },
     "execution_count": 16,
     "metadata": {},
     "output_type": "execute_result"
    }
   ],
   "source": [
    "match.span()"
   ]
  },
  {
   "cell_type": "markdown",
   "metadata": {},
   "source": [
    "Notice it only matches the first instance. If we wanted a list of all matches, we can use .findall() method:"
   ]
  },
  {
   "cell_type": "code",
   "execution_count": 17,
   "metadata": {
    "execution": {
     "iopub.execute_input": "2021-02-01T12:57:40.779194Z",
     "iopub.status.busy": "2021-02-01T12:57:40.778195Z",
     "iopub.status.idle": "2021-02-01T12:57:40.798146Z",
     "shell.execute_reply": "2021-02-01T12:57:40.797175Z",
     "shell.execute_reply.started": "2021-02-01T12:57:40.779194Z"
    }
   },
   "outputs": [],
   "source": [
    "matches = re.findall(\"phone\", text)"
   ]
  },
  {
   "cell_type": "code",
   "execution_count": 18,
   "metadata": {
    "execution": {
     "iopub.execute_input": "2021-02-01T12:57:41.078597Z",
     "iopub.status.busy": "2021-02-01T12:57:41.077600Z",
     "iopub.status.idle": "2021-02-01T12:57:41.096548Z",
     "shell.execute_reply": "2021-02-01T12:57:41.095582Z",
     "shell.execute_reply.started": "2021-02-01T12:57:41.077600Z"
    }
   },
   "outputs": [
    {
     "data": {
      "text/plain": [
       "['phone', 'phone']"
      ]
     },
     "execution_count": 18,
     "metadata": {},
     "output_type": "execute_result"
    }
   ],
   "source": [
    "matches"
   ]
  },
  {
   "cell_type": "code",
   "execution_count": 19,
   "metadata": {
    "execution": {
     "iopub.execute_input": "2021-02-01T12:57:41.415623Z",
     "iopub.status.busy": "2021-02-01T12:57:41.415623Z",
     "iopub.status.idle": "2021-02-01T12:57:41.425597Z",
     "shell.execute_reply": "2021-02-01T12:57:41.424599Z",
     "shell.execute_reply.started": "2021-02-01T12:57:41.415623Z"
    }
   },
   "outputs": [
    {
     "data": {
      "text/plain": [
       "2"
      ]
     },
     "execution_count": 19,
     "metadata": {},
     "output_type": "execute_result"
    }
   ],
   "source": [
    "len(matches)"
   ]
  },
  {
   "cell_type": "markdown",
   "metadata": {},
   "source": [
    "To get actual match objects, use the iterator:"
   ]
  },
  {
   "cell_type": "code",
   "execution_count": 20,
   "metadata": {
    "execution": {
     "iopub.execute_input": "2021-02-01T12:57:42.106065Z",
     "iopub.status.busy": "2021-02-01T12:57:42.105037Z",
     "iopub.status.idle": "2021-02-01T12:57:42.126506Z",
     "shell.execute_reply": "2021-02-01T12:57:42.125530Z",
     "shell.execute_reply.started": "2021-02-01T12:57:42.106065Z"
    }
   },
   "outputs": [
    {
     "data": {
      "text/plain": [
       "<callable_iterator at 0x22237e2cbb0>"
      ]
     },
     "execution_count": 20,
     "metadata": {},
     "output_type": "execute_result"
    }
   ],
   "source": [
    "re.finditer(\"phone\", text)"
   ]
  },
  {
   "cell_type": "code",
   "execution_count": 21,
   "metadata": {
    "execution": {
     "iopub.execute_input": "2021-02-01T12:57:42.438595Z",
     "iopub.status.busy": "2021-02-01T12:57:42.438595Z",
     "iopub.status.idle": "2021-02-01T12:57:42.456546Z",
     "shell.execute_reply": "2021-02-01T12:57:42.455581Z",
     "shell.execute_reply.started": "2021-02-01T12:57:42.438595Z"
    }
   },
   "outputs": [
    {
     "name": "stdout",
     "output_type": "stream",
     "text": [
      "(3, 8)\n",
      "(18, 23)\n"
     ]
    }
   ],
   "source": [
    "for match in re.finditer(\"phone\", text):\n",
    "    print(match.span())"
   ]
  },
  {
   "cell_type": "markdown",
   "metadata": {},
   "source": [
    "If you wanted the actual text that matched, you can use the .group() method."
   ]
  },
  {
   "cell_type": "code",
   "execution_count": 22,
   "metadata": {
    "execution": {
     "iopub.execute_input": "2021-02-01T12:57:43.117510Z",
     "iopub.status.busy": "2021-02-01T12:57:43.117510Z",
     "iopub.status.idle": "2021-02-01T12:57:43.128500Z",
     "shell.execute_reply": "2021-02-01T12:57:43.127482Z",
     "shell.execute_reply.started": "2021-02-01T12:57:43.117510Z"
    }
   },
   "outputs": [
    {
     "data": {
      "text/plain": [
       "'phone'"
      ]
     },
     "execution_count": 22,
     "metadata": {},
     "output_type": "execute_result"
    }
   ],
   "source": [
    "match.group()"
   ]
  },
  {
   "cell_type": "markdown",
   "metadata": {},
   "source": [
    "# Patterns\n",
    "\n",
    "So far we've learned how to search for a basic string. What about more complex examples? Such as trying to find a telephone number in a large string of text? Or an email address?\n",
    "\n",
    "We could just use search method if we know the exact phone or email, but what if we don't know it? We may know the general format, and we can use that along with regular expressions to search the document for strings that match a particular pattern.\n",
    "\n",
    "This is where the syntax may appear strange at first, but take your time with this; often it's just a matter of looking up the pattern code.\n",
    "\n",
    "Let's begin!"
   ]
  },
  {
   "cell_type": "markdown",
   "metadata": {},
   "source": [
    "## Identifiers for Characters in Patterns\n",
    "\n",
    "Characters such as a digit or a single string have different codes that represent them. You can use these to build up a pattern string. Notice how these make heavy use of the backwards slash \\ . Because of this when defining a pattern string for regular expression we use the format:\n",
    "\n",
    "    r'mypattern'\n",
    "    \n",
    "placing the r in front of the string allows python to understand that the \\ in the pattern string are not meant to be escape slashes.\n",
    "\n",
    "Below you can find a table of all the possible identifiers:"
   ]
  },
  {
   "cell_type": "markdown",
   "metadata": {},
   "source": [
    "<table ><tr><th>Character</th><th>Description</th><th>Example Pattern Code</th><th >Exammple Match</th></tr>\n",
    "\n",
    "<tr ><td><span >\\d</span></td><td>A digit</td><td>file_\\d\\d</td><td>file_25</td></tr>\n",
    "\n",
    "<tr ><td><span >\\w</span></td><td>Alphanumeric</td><td>\\w-\\w\\w\\w</td><td>A-b_1</td></tr>\n",
    "\n",
    "\n",
    "\n",
    "<tr ><td><span >\\s</span></td><td>White space</td><td>a\\sb\\sc</td><td>a b c</td></tr>\n",
    "\n",
    "\n",
    "\n",
    "<tr ><td><span >\\D</span></td><td>A non digit</td><td>\\D\\D\\D</td><td>ABC</td></tr>\n",
    "\n",
    "<tr ><td><span >\\W</span></td><td>Non-alphanumeric</td><td>\\W\\W\\W\\W\\W</td><td>*-+=)</td></tr>\n",
    "\n",
    "<tr ><td><span >\\S</span></td><td>Non-whitespace</td><td>\\S\\S\\S\\S</td><td>Yoyo</td></tr></table>"
   ]
  },
  {
   "cell_type": "markdown",
   "metadata": {},
   "source": [
    "For example:"
   ]
  },
  {
   "cell_type": "code",
   "execution_count": 23,
   "metadata": {
    "execution": {
     "iopub.execute_input": "2021-02-01T12:57:44.693316Z",
     "iopub.status.busy": "2021-02-01T12:57:44.693316Z",
     "iopub.status.idle": "2021-02-01T12:57:44.700297Z",
     "shell.execute_reply": "2021-02-01T12:57:44.699300Z",
     "shell.execute_reply.started": "2021-02-01T12:57:44.693316Z"
    }
   },
   "outputs": [],
   "source": [
    "text = \"My telephone number is 408-555-1234\""
   ]
  },
  {
   "cell_type": "code",
   "execution_count": 24,
   "metadata": {
    "execution": {
     "iopub.execute_input": "2021-02-01T12:57:45.004500Z",
     "iopub.status.busy": "2021-02-01T12:57:45.003501Z",
     "iopub.status.idle": "2021-02-01T12:57:45.016467Z",
     "shell.execute_reply": "2021-02-01T12:57:45.015469Z",
     "shell.execute_reply.started": "2021-02-01T12:57:45.004500Z"
    }
   },
   "outputs": [],
   "source": [
    "pattern = r\"\\d\\d\\d-\\d\\d\\d-\\d\\d\\d\\d\""
   ]
  },
  {
   "cell_type": "code",
   "execution_count": 25,
   "metadata": {
    "execution": {
     "iopub.execute_input": "2021-02-01T12:57:45.345988Z",
     "iopub.status.busy": "2021-02-01T12:57:45.345988Z",
     "iopub.status.idle": "2021-02-01T12:57:45.360948Z",
     "shell.execute_reply": "2021-02-01T12:57:45.359950Z",
     "shell.execute_reply.started": "2021-02-01T12:57:45.345988Z"
    }
   },
   "outputs": [],
   "source": [
    "phone = re.search(pattern, text)"
   ]
  },
  {
   "cell_type": "code",
   "execution_count": 26,
   "metadata": {
    "execution": {
     "iopub.execute_input": "2021-02-01T12:57:45.749421Z",
     "iopub.status.busy": "2021-02-01T12:57:45.748424Z",
     "iopub.status.idle": "2021-02-01T12:57:45.766377Z",
     "shell.execute_reply": "2021-02-01T12:57:45.765409Z",
     "shell.execute_reply.started": "2021-02-01T12:57:45.749421Z"
    }
   },
   "outputs": [
    {
     "data": {
      "text/plain": [
       "re.Match"
      ]
     },
     "execution_count": 26,
     "metadata": {},
     "output_type": "execute_result"
    }
   ],
   "source": [
    "type(phone)"
   ]
  },
  {
   "cell_type": "code",
   "execution_count": 27,
   "metadata": {
    "execution": {
     "iopub.execute_input": "2021-02-01T12:57:46.050231Z",
     "iopub.status.busy": "2021-02-01T12:57:46.050231Z",
     "iopub.status.idle": "2021-02-01T12:57:46.065191Z",
     "shell.execute_reply": "2021-02-01T12:57:46.064193Z",
     "shell.execute_reply.started": "2021-02-01T12:57:46.050231Z"
    }
   },
   "outputs": [
    {
     "data": {
      "text/plain": [
       "<re.Match object; span=(23, 35), match='408-555-1234'>"
      ]
     },
     "execution_count": 27,
     "metadata": {},
     "output_type": "execute_result"
    }
   ],
   "source": [
    "phone"
   ]
  },
  {
   "cell_type": "code",
   "execution_count": 28,
   "metadata": {
    "execution": {
     "iopub.execute_input": "2021-02-01T12:57:46.371808Z",
     "iopub.status.busy": "2021-02-01T12:57:46.370776Z",
     "iopub.status.idle": "2021-02-01T12:57:46.391732Z",
     "shell.execute_reply": "2021-02-01T12:57:46.390759Z",
     "shell.execute_reply.started": "2021-02-01T12:57:46.371808Z"
    }
   },
   "outputs": [
    {
     "data": {
      "text/plain": [
       "'408-555-1234'"
      ]
     },
     "execution_count": 28,
     "metadata": {},
     "output_type": "execute_result"
    }
   ],
   "source": [
    "phone.group()"
   ]
  },
  {
   "cell_type": "markdown",
   "metadata": {},
   "source": [
    "Notice the repetition of \\d. That is a bit of an annoyance, especially if we are looking for very long strings of numbers. Let's explore the possible quantifiers.\n",
    "\n",
    "## Quantifiers\n",
    "\n",
    "Now that we know the special character designations, we can use them along with quantifiers to define how many we expect."
   ]
  },
  {
   "cell_type": "markdown",
   "metadata": {},
   "source": [
    "<table ><tr><th>Character</th><th>Description</th><th>Example Pattern Code</th><th >Exammple Match</th></tr>\n",
    "\n",
    "<tr ><td><span >+</span></td><td>Occurs one or more times</td><td>\tVersion \\w-\\w+</td><td>Version A-b1_1</td></tr>\n",
    "\n",
    "<tr ><td><span >{3}</span></td><td>Occurs exactly 3 times</td><td>\\D{3}</td><td>abc</td></tr>\n",
    "\n",
    "\n",
    "\n",
    "<tr ><td><span >{2,4}</span></td><td>Occurs 2 to 4 times</td><td>\\d{2,4}</td><td>123</td></tr>\n",
    "\n",
    "\n",
    "\n",
    "<tr ><td><span >{3,}</span></td><td>Occurs 3 or more</td><td>\\w{3,}</td><td>anycharacters</td></tr>\n",
    "\n",
    "<tr ><td><span >\\*</span></td><td>Occurs zero or more times</td><td>A\\*B\\*C*</td><td>AAACC</td></tr>\n",
    "\n",
    "<tr ><td><span >?</span></td><td>Once or none</td><td>plurals?</td><td>plural</td></tr></table>"
   ]
  },
  {
   "cell_type": "markdown",
   "metadata": {},
   "source": [
    "Let's rewrite our pattern using these quantifiers:"
   ]
  },
  {
   "cell_type": "code",
   "execution_count": 29,
   "metadata": {
    "execution": {
     "iopub.execute_input": "2021-02-01T12:57:47.592380Z",
     "iopub.status.busy": "2021-02-01T12:57:47.592380Z",
     "iopub.status.idle": "2021-02-01T12:57:47.611844Z",
     "shell.execute_reply": "2021-02-01T12:57:47.610878Z",
     "shell.execute_reply.started": "2021-02-01T12:57:47.592380Z"
    }
   },
   "outputs": [],
   "source": [
    "pattern = r\"\\d{3}-\\d{3}-\\d{4}\""
   ]
  },
  {
   "cell_type": "code",
   "execution_count": 30,
   "metadata": {
    "execution": {
     "iopub.execute_input": "2021-02-01T12:57:47.917480Z",
     "iopub.status.busy": "2021-02-01T12:57:47.916457Z",
     "iopub.status.idle": "2021-02-01T12:57:47.923439Z",
     "shell.execute_reply": "2021-02-01T12:57:47.923439Z",
     "shell.execute_reply.started": "2021-02-01T12:57:47.917480Z"
    }
   },
   "outputs": [
    {
     "data": {
      "text/plain": [
       "<re.Match object; span=(23, 35), match='408-555-1234'>"
      ]
     },
     "execution_count": 30,
     "metadata": {},
     "output_type": "execute_result"
    }
   ],
   "source": [
    "re.search(pattern, text)"
   ]
  },
  {
   "cell_type": "code",
   "execution_count": 31,
   "metadata": {
    "execution": {
     "iopub.execute_input": "2021-02-01T12:57:48.246033Z",
     "iopub.status.busy": "2021-02-01T12:57:48.246033Z",
     "iopub.status.idle": "2021-02-01T12:57:48.268958Z",
     "shell.execute_reply": "2021-02-01T12:57:48.267990Z",
     "shell.execute_reply.started": "2021-02-01T12:57:48.246033Z"
    }
   },
   "outputs": [
    {
     "data": {
      "text/plain": [
       "'408-555-1234'"
      ]
     },
     "execution_count": 31,
     "metadata": {},
     "output_type": "execute_result"
    }
   ],
   "source": [
    "re.search(pattern, text).group()"
   ]
  },
  {
   "cell_type": "markdown",
   "metadata": {},
   "source": [
    "## Groups\n",
    "\n",
    "What if we wanted to do two tasks, find phone numbers, but also be able to quickly extract their area code (the first three digits). We can use groups for any general task that involves grouping together regular expressions (so that we can later break them down). \n",
    "\n",
    "Using the phone number example, we can separate groups of regular expressions using parentheses:"
   ]
  },
  {
   "cell_type": "code",
   "execution_count": 32,
   "metadata": {
    "execution": {
     "iopub.execute_input": "2021-02-01T12:57:48.916398Z",
     "iopub.status.busy": "2021-02-01T12:57:48.916398Z",
     "iopub.status.idle": "2021-02-01T12:57:48.926903Z",
     "shell.execute_reply": "2021-02-01T12:57:48.925893Z",
     "shell.execute_reply.started": "2021-02-01T12:57:48.916398Z"
    }
   },
   "outputs": [],
   "source": [
    "phone_pattern = re.compile(r'(\\d{3})-(\\d{3})-(\\d{4})')"
   ]
  },
  {
   "cell_type": "code",
   "execution_count": 33,
   "metadata": {
    "execution": {
     "iopub.execute_input": "2021-02-01T12:57:49.239860Z",
     "iopub.status.busy": "2021-02-01T12:57:49.239860Z",
     "iopub.status.idle": "2021-02-01T12:57:49.254252Z",
     "shell.execute_reply": "2021-02-01T12:57:49.253326Z",
     "shell.execute_reply.started": "2021-02-01T12:57:49.239860Z"
    }
   },
   "outputs": [],
   "source": [
    "results = re.search(phone_pattern, text)"
   ]
  },
  {
   "cell_type": "code",
   "execution_count": 34,
   "metadata": {
    "execution": {
     "iopub.execute_input": "2021-02-01T12:57:49.572145Z",
     "iopub.status.busy": "2021-02-01T12:57:49.572145Z",
     "iopub.status.idle": "2021-02-01T12:57:49.587104Z",
     "shell.execute_reply": "2021-02-01T12:57:49.586106Z",
     "shell.execute_reply.started": "2021-02-01T12:57:49.572145Z"
    }
   },
   "outputs": [
    {
     "data": {
      "text/plain": [
       "'408-555-1234'"
      ]
     },
     "execution_count": 34,
     "metadata": {},
     "output_type": "execute_result"
    }
   ],
   "source": [
    "# The entire result\n",
    "results.group()"
   ]
  },
  {
   "cell_type": "code",
   "execution_count": 35,
   "metadata": {
    "execution": {
     "iopub.execute_input": "2021-02-01T12:57:49.898627Z",
     "iopub.status.busy": "2021-02-01T12:57:49.898627Z",
     "iopub.status.idle": "2021-02-01T12:57:49.914582Z",
     "shell.execute_reply": "2021-02-01T12:57:49.913574Z",
     "shell.execute_reply.started": "2021-02-01T12:57:49.898627Z"
    }
   },
   "outputs": [
    {
     "data": {
      "text/plain": [
       "'408'"
      ]
     },
     "execution_count": 35,
     "metadata": {},
     "output_type": "execute_result"
    }
   ],
   "source": [
    "# Can then also call by group position.\n",
    "# remember groups were separated by parentheses ()\n",
    "# Something to note is that group ordering starts at 1. Passing in 0 returns everything\n",
    "results.group(1)"
   ]
  },
  {
   "cell_type": "code",
   "execution_count": 36,
   "metadata": {
    "execution": {
     "iopub.execute_input": "2021-02-01T12:57:50.214917Z",
     "iopub.status.busy": "2021-02-01T12:57:50.213934Z",
     "iopub.status.idle": "2021-02-01T12:57:50.225886Z",
     "shell.execute_reply": "2021-02-01T12:57:50.224888Z",
     "shell.execute_reply.started": "2021-02-01T12:57:50.214917Z"
    }
   },
   "outputs": [
    {
     "data": {
      "text/plain": [
       "'555'"
      ]
     },
     "execution_count": 36,
     "metadata": {},
     "output_type": "execute_result"
    }
   ],
   "source": [
    "results.group(2)"
   ]
  },
  {
   "cell_type": "code",
   "execution_count": 37,
   "metadata": {
    "execution": {
     "iopub.execute_input": "2021-02-01T12:57:50.562517Z",
     "iopub.status.busy": "2021-02-01T12:57:50.562517Z",
     "iopub.status.idle": "2021-02-01T12:57:50.574485Z",
     "shell.execute_reply": "2021-02-01T12:57:50.573487Z",
     "shell.execute_reply.started": "2021-02-01T12:57:50.562517Z"
    }
   },
   "outputs": [
    {
     "data": {
      "text/plain": [
       "'1234'"
      ]
     },
     "execution_count": 37,
     "metadata": {},
     "output_type": "execute_result"
    }
   ],
   "source": [
    "results.group(3)"
   ]
  },
  {
   "cell_type": "code",
   "execution_count": 38,
   "metadata": {
    "execution": {
     "iopub.execute_input": "2021-02-01T12:57:50.873781Z",
     "iopub.status.busy": "2021-02-01T12:57:50.873781Z",
     "iopub.status.idle": "2021-02-01T12:57:51.065072Z",
     "shell.execute_reply": "2021-02-01T12:57:51.063076Z",
     "shell.execute_reply.started": "2021-02-01T12:57:50.873781Z"
    }
   },
   "outputs": [
    {
     "ename": "IndexError",
     "evalue": "no such group",
     "output_type": "error",
     "traceback": [
      "\u001b[1;31m---------------------------------------------------------------------------\u001b[0m",
      "\u001b[1;31mIndexError\u001b[0m                                Traceback (most recent call last)",
      "\u001b[1;32m<ipython-input-38-79a918a9b5dc>\u001b[0m in \u001b[0;36m<module>\u001b[1;34m\u001b[0m\n\u001b[0;32m      1\u001b[0m \u001b[1;31m# We only had three groups of parentheses\u001b[0m\u001b[1;33m\u001b[0m\u001b[1;33m\u001b[0m\u001b[1;33m\u001b[0m\u001b[0m\n\u001b[1;32m----> 2\u001b[1;33m \u001b[0mresults\u001b[0m\u001b[1;33m.\u001b[0m\u001b[0mgroup\u001b[0m\u001b[1;33m(\u001b[0m\u001b[1;36m4\u001b[0m\u001b[1;33m)\u001b[0m\u001b[1;33m\u001b[0m\u001b[1;33m\u001b[0m\u001b[0m\n\u001b[0m",
      "\u001b[1;31mIndexError\u001b[0m: no such group"
     ]
    }
   ],
   "source": [
    "# We only had three groups of parentheses\n",
    "results.group(4)"
   ]
  },
  {
   "cell_type": "code",
   "execution_count": 39,
   "metadata": {
    "execution": {
     "iopub.execute_input": "2021-02-01T12:57:51.200239Z",
     "iopub.status.busy": "2021-02-01T12:57:51.199240Z",
     "iopub.status.idle": "2021-02-01T12:57:51.220217Z",
     "shell.execute_reply": "2021-02-01T12:57:51.219217Z",
     "shell.execute_reply.started": "2021-02-01T12:57:51.200239Z"
    }
   },
   "outputs": [
    {
     "data": {
      "text/plain": [
       "'408-'"
      ]
     },
     "execution_count": 39,
     "metadata": {},
     "output_type": "execute_result"
    }
   ],
   "source": [
    "phone_pattern = re.compile(r'(\\d{3}-)(\\d{3})-(\\d{4})')\n",
    "results       = re.search(phone_pattern, text)\n",
    "results.group(1)"
   ]
  },
  {
   "cell_type": "code",
   "execution_count": 40,
   "metadata": {
    "execution": {
     "iopub.execute_input": "2021-02-01T12:57:51.551082Z",
     "iopub.status.busy": "2021-02-01T12:57:51.551082Z",
     "iopub.status.idle": "2021-02-01T12:57:51.567050Z",
     "shell.execute_reply": "2021-02-01T12:57:51.566073Z",
     "shell.execute_reply.started": "2021-02-01T12:57:51.551082Z"
    }
   },
   "outputs": [
    {
     "data": {
      "text/plain": [
       "'408-555-1234'"
      ]
     },
     "execution_count": 40,
     "metadata": {},
     "output_type": "execute_result"
    }
   ],
   "source": [
    "phone_pattern = re.compile(r'(\\d{3})-(\\d{3})-(\\d{4})')\n",
    "results       = re.search(phone_pattern, text)\n",
    "results.group(0)"
   ]
  },
  {
   "cell_type": "markdown",
   "metadata": {},
   "source": [
    "## Additional Regex Syntax\n",
    "\n",
    "### Or operator |\n",
    "\n",
    "Use the pipe operator to have an **or** statment. For example"
   ]
  },
  {
   "cell_type": "code",
   "execution_count": 41,
   "metadata": {
    "execution": {
     "iopub.execute_input": "2021-02-01T12:57:52.224125Z",
     "iopub.status.busy": "2021-02-01T12:57:52.224125Z",
     "iopub.status.idle": "2021-02-01T12:57:52.244066Z",
     "shell.execute_reply": "2021-02-01T12:57:52.243048Z",
     "shell.execute_reply.started": "2021-02-01T12:57:52.224125Z"
    }
   },
   "outputs": [
    {
     "data": {
      "text/plain": [
       "<re.Match object; span=(5, 8), match='man'>"
      ]
     },
     "execution_count": 41,
     "metadata": {},
     "output_type": "execute_result"
    }
   ],
   "source": [
    "re.search(r\"man|woman\", \"This man was here.\")"
   ]
  },
  {
   "cell_type": "code",
   "execution_count": 42,
   "metadata": {
    "execution": {
     "iopub.execute_input": "2021-02-01T12:57:52.562218Z",
     "iopub.status.busy": "2021-02-01T12:57:52.561220Z",
     "iopub.status.idle": "2021-02-01T12:57:52.574185Z",
     "shell.execute_reply": "2021-02-01T12:57:52.573187Z",
     "shell.execute_reply.started": "2021-02-01T12:57:52.561220Z"
    }
   },
   "outputs": [
    {
     "data": {
      "text/plain": [
       "<re.Match object; span=(5, 10), match='woman'>"
      ]
     },
     "execution_count": 42,
     "metadata": {},
     "output_type": "execute_result"
    }
   ],
   "source": [
    "re.search(r\"man|woman\", \"This woman was here.\")"
   ]
  },
  {
   "cell_type": "markdown",
   "metadata": {},
   "source": [
    "### The Wildcard Character\n",
    "\n",
    "Use a \"wildcard\" as a placement that will match any character placed there. You can use a simple period **.** for this. For example:"
   ]
  },
  {
   "cell_type": "code",
   "execution_count": 43,
   "metadata": {
    "execution": {
     "iopub.execute_input": "2021-02-01T12:57:53.254717Z",
     "iopub.status.busy": "2021-02-01T12:57:53.253720Z",
     "iopub.status.idle": "2021-02-01T12:57:53.263694Z",
     "shell.execute_reply": "2021-02-01T12:57:53.262697Z",
     "shell.execute_reply.started": "2021-02-01T12:57:53.254717Z"
    }
   },
   "outputs": [
    {
     "data": {
      "text/plain": [
       "['cat', 'hat', 'sat']"
      ]
     },
     "execution_count": 43,
     "metadata": {},
     "output_type": "execute_result"
    }
   ],
   "source": [
    "re.findall(r\".at\", \"The cat in the hat sat here.\")"
   ]
  },
  {
   "cell_type": "code",
   "execution_count": 44,
   "metadata": {
    "execution": {
     "iopub.execute_input": "2021-02-01T12:57:53.616939Z",
     "iopub.status.busy": "2021-02-01T12:57:53.616939Z",
     "iopub.status.idle": "2021-02-01T12:57:53.623921Z",
     "shell.execute_reply": "2021-02-01T12:57:53.622934Z",
     "shell.execute_reply.started": "2021-02-01T12:57:53.616939Z"
    }
   },
   "outputs": [
    {
     "data": {
      "text/plain": [
       "[' cat', ' hat', ' sat']"
      ]
     },
     "execution_count": 44,
     "metadata": {},
     "output_type": "execute_result"
    }
   ],
   "source": [
    "re.findall(r\"..at\", \"The cat in the hat sat here.\")"
   ]
  },
  {
   "cell_type": "code",
   "execution_count": 45,
   "metadata": {
    "execution": {
     "iopub.execute_input": "2021-02-01T12:57:53.955199Z",
     "iopub.status.busy": "2021-02-01T12:57:53.954297Z",
     "iopub.status.idle": "2021-02-01T12:57:53.970152Z",
     "shell.execute_reply": "2021-02-01T12:57:53.969154Z",
     "shell.execute_reply.started": "2021-02-01T12:57:53.955199Z"
    }
   },
   "outputs": [
    {
     "data": {
      "text/plain": [
       "['bat', 'lat']"
      ]
     },
     "execution_count": 45,
     "metadata": {},
     "output_type": "execute_result"
    }
   ],
   "source": [
    "re.findall(r\".at\", \"The bat went splat\")"
   ]
  },
  {
   "cell_type": "code",
   "execution_count": 46,
   "metadata": {
    "execution": {
     "iopub.execute_input": "2021-02-01T12:57:54.262088Z",
     "iopub.status.busy": "2021-02-01T12:57:54.262088Z",
     "iopub.status.idle": "2021-02-01T12:57:54.269068Z",
     "shell.execute_reply": "2021-02-01T12:57:54.268071Z",
     "shell.execute_reply.started": "2021-02-01T12:57:54.262088Z"
    }
   },
   "outputs": [
    {
     "data": {
      "text/plain": [
       "[' bat', 'plat']"
      ]
     },
     "execution_count": 46,
     "metadata": {},
     "output_type": "execute_result"
    }
   ],
   "source": [
    "re.findall(r\"..at\", \"The bat went splat\")"
   ]
  },
  {
   "cell_type": "markdown",
   "metadata": {},
   "source": [
    "Notice how we only matched the first 3 letters, that is because we need a **.** for each wildcard letter. Or use the quantifiers described above to set its own rules."
   ]
  },
  {
   "cell_type": "code",
   "execution_count": 47,
   "metadata": {
    "execution": {
     "iopub.execute_input": "2021-02-01T12:57:54.889565Z",
     "iopub.status.busy": "2021-02-01T12:57:54.888581Z",
     "iopub.status.idle": "2021-02-01T12:57:54.896544Z",
     "shell.execute_reply": "2021-02-01T12:57:54.895546Z",
     "shell.execute_reply.started": "2021-02-01T12:57:54.889565Z"
    }
   },
   "outputs": [
    {
     "data": {
      "text/plain": [
       "['e bat', 'splat']"
      ]
     },
     "execution_count": 47,
     "metadata": {},
     "output_type": "execute_result"
    }
   ],
   "source": [
    "re.findall(r\"...at\", \"The bat went splat\")"
   ]
  },
  {
   "cell_type": "markdown",
   "metadata": {},
   "source": [
    "However this still leads the problem to grabbing more beforehand. Really we only want words that end with \"at\"."
   ]
  },
  {
   "cell_type": "code",
   "execution_count": 48,
   "metadata": {
    "execution": {
     "iopub.execute_input": "2021-02-01T12:57:55.601780Z",
     "iopub.status.busy": "2021-02-01T12:57:55.601780Z",
     "iopub.status.idle": "2021-02-01T12:57:55.615924Z",
     "shell.execute_reply": "2021-02-01T12:57:55.614955Z",
     "shell.execute_reply.started": "2021-02-01T12:57:55.601780Z"
    }
   },
   "outputs": [
    {
     "data": {
      "text/plain": [
       "['bat', 'splat']"
      ]
     },
     "execution_count": 48,
     "metadata": {},
     "output_type": "execute_result"
    }
   ],
   "source": [
    "# One or more non-whitespace that ends with 'at'\n",
    "re.findall(r'\\S+at', \"The bat went splat\")"
   ]
  },
  {
   "cell_type": "markdown",
   "metadata": {},
   "source": [
    "### Starts With and Ends With\n",
    "\n",
    "We can use the **^** to signal starts with, and the **$** to signal ends with:"
   ]
  },
  {
   "cell_type": "code",
   "execution_count": 49,
   "metadata": {
    "execution": {
     "iopub.execute_input": "2021-02-01T12:57:56.267806Z",
     "iopub.status.busy": "2021-02-01T12:57:56.267806Z",
     "iopub.status.idle": "2021-02-01T12:57:56.276232Z",
     "shell.execute_reply": "2021-02-01T12:57:56.275230Z",
     "shell.execute_reply.started": "2021-02-01T12:57:56.267806Z"
    }
   },
   "outputs": [
    {
     "data": {
      "text/plain": [
       "['2']"
      ]
     },
     "execution_count": 49,
     "metadata": {},
     "output_type": "execute_result"
    }
   ],
   "source": [
    "# Ends with a number\n",
    "re.findall(r'\\d$', 'This ends with a number 2')"
   ]
  },
  {
   "cell_type": "code",
   "execution_count": 50,
   "metadata": {
    "execution": {
     "iopub.execute_input": "2021-02-01T12:57:56.611579Z",
     "iopub.status.busy": "2021-02-01T12:57:56.611579Z",
     "iopub.status.idle": "2021-02-01T12:57:56.623548Z",
     "shell.execute_reply": "2021-02-01T12:57:56.622550Z",
     "shell.execute_reply.started": "2021-02-01T12:57:56.611579Z"
    }
   },
   "outputs": [
    {
     "data": {
      "text/plain": [
       "['1']"
      ]
     },
     "execution_count": 50,
     "metadata": {},
     "output_type": "execute_result"
    }
   ],
   "source": [
    "# Starts with a number\n",
    "re.findall(r'^\\d', '1 is the loneliest number.')"
   ]
  },
  {
   "cell_type": "markdown",
   "metadata": {},
   "source": [
    "Note that this is for the entire string, not individual words!"
   ]
  },
  {
   "cell_type": "markdown",
   "metadata": {},
   "source": [
    "### Exclusion\n",
    "\n",
    "To exclude characters, we can use the **^** symbol in conjunction with a set of brackets **[]**. Anything inside the brackets is excluded. For example:"
   ]
  },
  {
   "cell_type": "code",
   "execution_count": 51,
   "metadata": {
    "execution": {
     "iopub.execute_input": "2021-02-01T12:57:57.619084Z",
     "iopub.status.busy": "2021-02-01T12:57:57.619084Z",
     "iopub.status.idle": "2021-02-01T12:57:57.627525Z",
     "shell.execute_reply": "2021-02-01T12:57:57.626559Z",
     "shell.execute_reply.started": "2021-02-01T12:57:57.619084Z"
    }
   },
   "outputs": [],
   "source": [
    "phrase = \"there are 3 numbers 34 inside 5 this sentence.\""
   ]
  },
  {
   "cell_type": "code",
   "execution_count": 52,
   "metadata": {
    "execution": {
     "iopub.execute_input": "2021-02-01T12:57:57.945068Z",
     "iopub.status.busy": "2021-02-01T12:57:57.945068Z",
     "iopub.status.idle": "2021-02-01T12:57:57.956117Z",
     "shell.execute_reply": "2021-02-01T12:57:57.955044Z",
     "shell.execute_reply.started": "2021-02-01T12:57:57.945068Z"
    }
   },
   "outputs": [
    {
     "data": {
      "text/plain": [
       "['t',\n",
       " 'h',\n",
       " 'e',\n",
       " 'r',\n",
       " 'e',\n",
       " ' ',\n",
       " 'a',\n",
       " 'r',\n",
       " 'e',\n",
       " ' ',\n",
       " ' ',\n",
       " 'n',\n",
       " 'u',\n",
       " 'm',\n",
       " 'b',\n",
       " 'e',\n",
       " 'r',\n",
       " 's',\n",
       " ' ',\n",
       " ' ',\n",
       " 'i',\n",
       " 'n',\n",
       " 's',\n",
       " 'i',\n",
       " 'd',\n",
       " 'e',\n",
       " ' ',\n",
       " ' ',\n",
       " 't',\n",
       " 'h',\n",
       " 'i',\n",
       " 's',\n",
       " ' ',\n",
       " 's',\n",
       " 'e',\n",
       " 'n',\n",
       " 't',\n",
       " 'e',\n",
       " 'n',\n",
       " 'c',\n",
       " 'e',\n",
       " '.']"
      ]
     },
     "execution_count": 52,
     "metadata": {},
     "output_type": "execute_result"
    }
   ],
   "source": [
    "re.findall(r'[^\\d]', phrase)"
   ]
  },
  {
   "cell_type": "markdown",
   "metadata": {},
   "source": [
    "To get the words back together, use a + sign "
   ]
  },
  {
   "cell_type": "code",
   "execution_count": 53,
   "metadata": {
    "execution": {
     "iopub.execute_input": "2021-02-01T12:57:58.757505Z",
     "iopub.status.busy": "2021-02-01T12:57:58.756506Z",
     "iopub.status.idle": "2021-02-01T12:57:58.774460Z",
     "shell.execute_reply": "2021-02-01T12:57:58.773494Z",
     "shell.execute_reply.started": "2021-02-01T12:57:58.757505Z"
    }
   },
   "outputs": [
    {
     "data": {
      "text/plain": [
       "['there are ', ' numbers ', ' inside ', ' this sentence.']"
      ]
     },
     "execution_count": 53,
     "metadata": {},
     "output_type": "execute_result"
    }
   ],
   "source": [
    "re.findall(r'[^\\d]+', phrase)"
   ]
  },
  {
   "cell_type": "markdown",
   "metadata": {},
   "source": [
    "We can use this to remove punctuation from a sentence."
   ]
  },
  {
   "cell_type": "code",
   "execution_count": 54,
   "metadata": {
    "execution": {
     "iopub.execute_input": "2021-02-01T12:57:59.495048Z",
     "iopub.status.busy": "2021-02-01T12:57:59.494050Z",
     "iopub.status.idle": "2021-02-01T12:57:59.514008Z",
     "shell.execute_reply": "2021-02-01T12:57:59.513012Z",
     "shell.execute_reply.started": "2021-02-01T12:57:59.495048Z"
    }
   },
   "outputs": [],
   "source": [
    "test_phrase = 'This is a string! But it has punctuation. How can we remove it?'"
   ]
  },
  {
   "cell_type": "code",
   "execution_count": 55,
   "metadata": {
    "execution": {
     "iopub.execute_input": "2021-02-01T12:57:59.797058Z",
     "iopub.status.busy": "2021-02-01T12:57:59.796060Z",
     "iopub.status.idle": "2021-02-01T12:57:59.812016Z",
     "shell.execute_reply": "2021-02-01T12:57:59.811018Z",
     "shell.execute_reply.started": "2021-02-01T12:57:59.797058Z"
    }
   },
   "outputs": [
    {
     "data": {
      "text/plain": [
       "['This',\n",
       " 'is',\n",
       " 'a',\n",
       " 'string',\n",
       " 'But',\n",
       " 'it',\n",
       " 'has',\n",
       " 'punctuation',\n",
       " 'How',\n",
       " 'can',\n",
       " 'we',\n",
       " 'remove',\n",
       " 'it']"
      ]
     },
     "execution_count": 55,
     "metadata": {},
     "output_type": "execute_result"
    }
   ],
   "source": [
    "re.findall(r'[^!.? ]+', test_phrase)"
   ]
  },
  {
   "cell_type": "code",
   "execution_count": 56,
   "metadata": {
    "execution": {
     "iopub.execute_input": "2021-02-01T12:58:00.146192Z",
     "iopub.status.busy": "2021-02-01T12:58:00.145196Z",
     "iopub.status.idle": "2021-02-01T12:58:00.159156Z",
     "shell.execute_reply": "2021-02-01T12:58:00.158189Z",
     "shell.execute_reply.started": "2021-02-01T12:58:00.146192Z"
    }
   },
   "outputs": [],
   "source": [
    "clean = ' '.join(re.findall('[^!.? ]+', test_phrase))"
   ]
  },
  {
   "cell_type": "code",
   "execution_count": 57,
   "metadata": {
    "execution": {
     "iopub.execute_input": "2021-02-01T12:58:00.519567Z",
     "iopub.status.busy": "2021-02-01T12:58:00.519567Z",
     "iopub.status.idle": "2021-02-01T12:58:00.531526Z",
     "shell.execute_reply": "2021-02-01T12:58:00.531526Z",
     "shell.execute_reply.started": "2021-02-01T12:58:00.519567Z"
    }
   },
   "outputs": [
    {
     "data": {
      "text/plain": [
       "'This is a string But it has punctuation How can we remove it'"
      ]
     },
     "execution_count": 57,
     "metadata": {},
     "output_type": "execute_result"
    }
   ],
   "source": [
    "clean"
   ]
  },
  {
   "cell_type": "markdown",
   "metadata": {},
   "source": [
    "## Brackets for Grouping\n",
    "\n",
    "As we showed above we can use brackets to group together options, for example if we wanted to find hyphenated words:"
   ]
  },
  {
   "cell_type": "code",
   "execution_count": 58,
   "metadata": {
    "execution": {
     "iopub.execute_input": "2021-02-01T12:58:01.109930Z",
     "iopub.status.busy": "2021-02-01T12:58:01.109930Z",
     "iopub.status.idle": "2021-02-01T12:58:01.127882Z",
     "shell.execute_reply": "2021-02-01T12:58:01.126885Z",
     "shell.execute_reply.started": "2021-02-01T12:58:01.109930Z"
    }
   },
   "outputs": [],
   "source": [
    "text = 'Only find the hypen-words in this sentence. But you do not know how long-ish they are'"
   ]
  },
  {
   "cell_type": "code",
   "execution_count": 59,
   "metadata": {
    "execution": {
     "iopub.execute_input": "2021-02-01T12:58:01.449604Z",
     "iopub.status.busy": "2021-02-01T12:58:01.449604Z",
     "iopub.status.idle": "2021-02-01T12:58:01.456584Z",
     "shell.execute_reply": "2021-02-01T12:58:01.455587Z",
     "shell.execute_reply.started": "2021-02-01T12:58:01.449604Z"
    }
   },
   "outputs": [
    {
     "data": {
      "text/plain": [
       "['hypen-words', 'long-ish']"
      ]
     },
     "execution_count": 59,
     "metadata": {},
     "output_type": "execute_result"
    }
   ],
   "source": [
    "re.findall(r'[\\w]+-[\\w]+', text)"
   ]
  },
  {
   "cell_type": "code",
   "execution_count": 60,
   "metadata": {
    "execution": {
     "iopub.execute_input": "2021-02-01T12:58:01.717378Z",
     "iopub.status.busy": "2021-02-01T12:58:01.716380Z",
     "iopub.status.idle": "2021-02-01T12:58:01.736365Z",
     "shell.execute_reply": "2021-02-01T12:58:01.735361Z",
     "shell.execute_reply.started": "2021-02-01T12:58:01.717378Z"
    }
   },
   "outputs": [
    {
     "data": {
      "text/plain": [
       "['hypen2-words1', '3long-2ish']"
      ]
     },
     "execution_count": 60,
     "metadata": {},
     "output_type": "execute_result"
    }
   ],
   "source": [
    "text = 'Only find the hypen2-words1 in this sentence. But you do not know how 3long-2ish they are'\n",
    "re.findall(r'[\\w]+-[\\w]+', text)"
   ]
  },
  {
   "cell_type": "markdown",
   "metadata": {},
   "source": [
    "## Parentheses for Multiple Options\n",
    "\n",
    "If we have multiple options for matching, we can use parentheses to list out these options. For Example:"
   ]
  },
  {
   "cell_type": "code",
   "execution_count": 61,
   "metadata": {
    "execution": {
     "iopub.execute_input": "2021-02-01T12:58:02.430777Z",
     "iopub.status.busy": "2021-02-01T12:58:02.429778Z",
     "iopub.status.idle": "2021-02-01T12:58:02.438769Z",
     "shell.execute_reply": "2021-02-01T12:58:02.437756Z",
     "shell.execute_reply.started": "2021-02-01T12:58:02.430777Z"
    }
   },
   "outputs": [],
   "source": [
    "# Find words that start with cat and end with one of these options: 'fish','nap', or 'claw'\n",
    "text      = 'Hello, would you like some catfish?'\n",
    "texttwo   = \"Hello, would you like to take a catnap?\"\n",
    "textthree = \"Hello, have you seen this caterpillar?\""
   ]
  },
  {
   "cell_type": "code",
   "execution_count": 62,
   "metadata": {
    "execution": {
     "iopub.execute_input": "2021-02-01T12:58:02.755651Z",
     "iopub.status.busy": "2021-02-01T12:58:02.755651Z",
     "iopub.status.idle": "2021-02-01T12:58:02.767795Z",
     "shell.execute_reply": "2021-02-01T12:58:02.766803Z",
     "shell.execute_reply.started": "2021-02-01T12:58:02.755651Z"
    }
   },
   "outputs": [
    {
     "data": {
      "text/plain": [
       "<re.Match object; span=(27, 34), match='catfish'>"
      ]
     },
     "execution_count": 62,
     "metadata": {},
     "output_type": "execute_result"
    }
   ],
   "source": [
    "re.search(r'cat(fish|nap|claw)', text)"
   ]
  },
  {
   "cell_type": "code",
   "execution_count": 63,
   "metadata": {
    "execution": {
     "iopub.execute_input": "2021-02-01T12:58:03.094309Z",
     "iopub.status.busy": "2021-02-01T12:58:03.094309Z",
     "iopub.status.idle": "2021-02-01T12:58:03.112260Z",
     "shell.execute_reply": "2021-02-01T12:58:03.111294Z",
     "shell.execute_reply.started": "2021-02-01T12:58:03.094309Z"
    }
   },
   "outputs": [
    {
     "data": {
      "text/plain": [
       "<re.Match object; span=(32, 38), match='catnap'>"
      ]
     },
     "execution_count": 63,
     "metadata": {},
     "output_type": "execute_result"
    }
   ],
   "source": [
    "re.search(r'cat(fish|nap|claw)', texttwo)"
   ]
  },
  {
   "cell_type": "code",
   "execution_count": 64,
   "metadata": {
    "execution": {
     "iopub.execute_input": "2021-02-01T12:58:03.483502Z",
     "iopub.status.busy": "2021-02-01T12:58:03.483502Z",
     "iopub.status.idle": "2021-02-01T12:58:03.487492Z",
     "shell.execute_reply": "2021-02-01T12:58:03.486747Z",
     "shell.execute_reply.started": "2021-02-01T12:58:03.483502Z"
    }
   },
   "outputs": [],
   "source": [
    "# None returned\n",
    "re.search(r'cat(fish|nap|claw)', textthree)"
   ]
  },
  {
   "cell_type": "code",
   "execution_count": 65,
   "metadata": {
    "execution": {
     "iopub.execute_input": "2021-02-01T12:58:03.847070Z",
     "iopub.status.busy": "2021-02-01T12:58:03.847070Z",
     "iopub.status.idle": "2021-02-01T12:58:03.861544Z",
     "shell.execute_reply": "2021-02-01T12:58:03.860566Z",
     "shell.execute_reply.started": "2021-02-01T12:58:03.847070Z"
    }
   },
   "outputs": [
    {
     "data": {
      "text/plain": [
       "<re.Match object; span=(26, 37), match='caterpillar'>"
      ]
     },
     "execution_count": 65,
     "metadata": {},
     "output_type": "execute_result"
    }
   ],
   "source": [
    "re.search(r'cat(erpillar)', textthree)"
   ]
  }
 ],
 "metadata": {
  "kernelspec": {
   "display_name": "Python 3",
   "language": "python",
   "name": "python3"
  },
  "language_info": {
   "codemirror_mode": {
    "name": "ipython",
    "version": 3
   },
   "file_extension": ".py",
   "mimetype": "text/x-python",
   "name": "python",
   "nbconvert_exporter": "python",
   "pygments_lexer": "ipython3",
   "version": "3.8.6"
  }
 },
 "nbformat": 4,
 "nbformat_minor": 4
}
