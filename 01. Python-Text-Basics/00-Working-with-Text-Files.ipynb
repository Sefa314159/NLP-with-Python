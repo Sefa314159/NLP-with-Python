{
 "cells": [
  {
   "cell_type": "markdown",
   "metadata": {},
   "source": [
    "# Working with Text Files\n",
    "In this section we'll cover\n",
    " * Working with f-strings (formatted string literals) to format printed text\n",
    " * Working with Files - opening, reading, writing and appending text files"
   ]
  },
  {
   "cell_type": "markdown",
   "metadata": {},
   "source": [
    "## Formatted String Literals (f-strings)"
   ]
  },
  {
   "cell_type": "markdown",
   "metadata": {},
   "source": [
    "Introduced in Python 3.6, <strong>f-strings</strong> offer several benefits over the older `.format()` string method. <br>For one, you can bring outside variables immediately into to the string rather than pass them through as keyword arguments:"
   ]
  },
  {
   "cell_type": "code",
   "execution_count": 1,
   "metadata": {
    "execution": {
     "iopub.execute_input": "2021-01-30T14:47:33.542352Z",
     "iopub.status.busy": "2021-01-30T14:47:33.542352Z",
     "iopub.status.idle": "2021-01-30T14:47:33.555318Z",
     "shell.execute_reply": "2021-01-30T14:47:33.554321Z",
     "shell.execute_reply.started": "2021-01-30T14:47:33.542352Z"
    }
   },
   "outputs": [
    {
     "name": "stdout",
     "output_type": "stream",
     "text": [
      "His name is Fred.\n",
      "His name is Fred.\n"
     ]
    }
   ],
   "source": [
    "name = 'Fred'\n",
    "\n",
    "# Using the old .format() method:\n",
    "print('His name is {var}.'.format(var = name))\n",
    "\n",
    "# Using f-strings:\n",
    "print(f'His name is {name}.')"
   ]
  },
  {
   "cell_type": "markdown",
   "metadata": {},
   "source": [
    "Pass `!r` to get the <strong>string representation</strong>:"
   ]
  },
  {
   "cell_type": "code",
   "execution_count": 2,
   "metadata": {
    "execution": {
     "iopub.execute_input": "2021-01-30T14:47:34.205566Z",
     "iopub.status.busy": "2021-01-30T14:47:34.205566Z",
     "iopub.status.idle": "2021-01-30T14:47:34.219513Z",
     "shell.execute_reply": "2021-01-30T14:47:34.218557Z",
     "shell.execute_reply.started": "2021-01-30T14:47:34.205566Z"
    }
   },
   "outputs": [
    {
     "name": "stdout",
     "output_type": "stream",
     "text": [
      "His name is 'Fred'\n"
     ]
    }
   ],
   "source": [
    "print(f'His name is {name!r}')"
   ]
  },
  {
   "cell_type": "markdown",
   "metadata": {},
   "source": [
    "Be careful not to let quotation marks in the replacement fields conflict with the quoting used in the outer string:"
   ]
  },
  {
   "cell_type": "code",
   "execution_count": 3,
   "metadata": {
    "execution": {
     "iopub.execute_input": "2021-01-30T14:47:34.744348Z",
     "iopub.status.busy": "2021-01-30T14:47:34.744348Z",
     "iopub.status.idle": "2021-01-30T14:47:34.765848Z",
     "shell.execute_reply": "2021-01-30T14:47:34.764342Z",
     "shell.execute_reply.started": "2021-01-30T14:47:34.744348Z"
    }
   },
   "outputs": [
    {
     "ename": "SyntaxError",
     "evalue": "invalid syntax (<ipython-input-3-12d47e54d88d>, line 3)",
     "output_type": "error",
     "traceback": [
      "\u001b[1;36m  File \u001b[1;32m\"<ipython-input-3-12d47e54d88d>\"\u001b[1;36m, line \u001b[1;32m3\u001b[0m\n\u001b[1;33m    print(f'Address: {d['a']} Main Street')\u001b[0m\n\u001b[1;37m                         ^\u001b[0m\n\u001b[1;31mSyntaxError\u001b[0m\u001b[1;31m:\u001b[0m invalid syntax\n"
     ]
    }
   ],
   "source": [
    "d = {'a':123, 'b':456}\n",
    "\n",
    "print(f'Address: {d['a']} Main Street')"
   ]
  },
  {
   "cell_type": "markdown",
   "metadata": {},
   "source": [
    "Instead, use different styles of quotation marks:"
   ]
  },
  {
   "cell_type": "code",
   "execution_count": 4,
   "metadata": {
    "execution": {
     "iopub.execute_input": "2021-01-30T14:47:35.449856Z",
     "iopub.status.busy": "2021-01-30T14:47:35.449856Z",
     "iopub.status.idle": "2021-01-30T14:47:35.468807Z",
     "shell.execute_reply": "2021-01-30T14:47:35.467807Z",
     "shell.execute_reply.started": "2021-01-30T14:47:35.449856Z"
    }
   },
   "outputs": [
    {
     "name": "stdout",
     "output_type": "stream",
     "text": [
      "Address: 123 Main Street\n"
     ]
    }
   ],
   "source": [
    "d = {'a':123, 'b':456}\n",
    "\n",
    "print(f\"Address: {d['a']} Main Street\")"
   ]
  },
  {
   "cell_type": "markdown",
   "metadata": {},
   "source": [
    "### Minimum Widths, Alignment and Padding\n",
    "You can pass arguments inside a nested set of curly braces to set a minimum width for the field, the alignment and even padding characters."
   ]
  },
  {
   "cell_type": "code",
   "execution_count": 5,
   "metadata": {
    "execution": {
     "iopub.execute_input": "2021-01-30T14:47:36.112854Z",
     "iopub.status.busy": "2021-01-30T14:47:36.112854Z",
     "iopub.status.idle": "2021-01-30T14:47:36.123130Z",
     "shell.execute_reply": "2021-01-30T14:47:36.122117Z",
     "shell.execute_reply.started": "2021-01-30T14:47:36.112854Z"
    }
   },
   "outputs": [],
   "source": [
    "library = [('Author', 'Topic', 'Pages'), \n",
    "           ('Twain', 'Rafting', 601), \n",
    "           ('Feynman', 'Physics', 95), \n",
    "           ('Hamilton', 'Mythology', 144)]"
   ]
  },
  {
   "cell_type": "code",
   "execution_count": 6,
   "metadata": {
    "execution": {
     "iopub.execute_input": "2021-01-30T14:47:36.444551Z",
     "iopub.status.busy": "2021-01-30T14:47:36.444551Z",
     "iopub.status.idle": "2021-01-30T14:47:36.465493Z",
     "shell.execute_reply": "2021-01-30T14:47:36.464528Z",
     "shell.execute_reply.started": "2021-01-30T14:47:36.444551Z"
    }
   },
   "outputs": [
    {
     "data": {
      "text/plain": [
       "[('Author', 'Topic', 'Pages'),\n",
       " ('Twain', 'Rafting', 601),\n",
       " ('Feynman', 'Physics', 95),\n",
       " ('Hamilton', 'Mythology', 144)]"
      ]
     },
     "execution_count": 6,
     "metadata": {},
     "output_type": "execute_result"
    }
   ],
   "source": [
    "library"
   ]
  },
  {
   "cell_type": "code",
   "execution_count": 7,
   "metadata": {
    "execution": {
     "iopub.execute_input": "2021-01-30T14:47:36.856537Z",
     "iopub.status.busy": "2021-01-30T14:47:36.856537Z",
     "iopub.status.idle": "2021-01-30T14:47:36.869501Z",
     "shell.execute_reply": "2021-01-30T14:47:36.868504Z",
     "shell.execute_reply.started": "2021-01-30T14:47:36.856537Z"
    }
   },
   "outputs": [
    {
     "name": "stdout",
     "output_type": "stream",
     "text": [
      "('Author', 'Topic', 'Pages')\n",
      "('Twain', 'Rafting', 601)\n",
      "('Feynman', 'Physics', 95)\n",
      "('Hamilton', 'Mythology', 144)\n"
     ]
    }
   ],
   "source": [
    "for book in library:\n",
    "    print(book)"
   ]
  },
  {
   "cell_type": "code",
   "execution_count": 8,
   "metadata": {
    "execution": {
     "iopub.execute_input": "2021-01-30T14:47:37.235868Z",
     "iopub.status.busy": "2021-01-30T14:47:37.235868Z",
     "iopub.status.idle": "2021-01-30T14:47:37.247835Z",
     "shell.execute_reply": "2021-01-30T14:47:37.246838Z",
     "shell.execute_reply.started": "2021-01-30T14:47:37.235868Z"
    }
   },
   "outputs": [
    {
     "name": "stdout",
     "output_type": "stream",
     "text": [
      "Author is Author\n",
      "Author is Twain\n",
      "Author is Feynman\n",
      "Author is Hamilton\n"
     ]
    }
   ],
   "source": [
    "for book in library:\n",
    "    print(f\"Author is {book[0]}\")"
   ]
  },
  {
   "cell_type": "code",
   "execution_count": 9,
   "metadata": {
    "execution": {
     "iopub.execute_input": "2021-01-30T14:47:37.600599Z",
     "iopub.status.busy": "2021-01-30T14:47:37.600599Z",
     "iopub.status.idle": "2021-01-30T14:47:37.611554Z",
     "shell.execute_reply": "2021-01-30T14:47:37.610557Z",
     "shell.execute_reply.started": "2021-01-30T14:47:37.600599Z"
    }
   },
   "outputs": [
    {
     "name": "stdout",
     "output_type": "stream",
     "text": [
      "Author    Topic\n",
      "Twain     Rafting\n",
      "Feynman   Physics\n",
      "Hamilton  Mythology\n"
     ]
    }
   ],
   "source": [
    "for book in library:\n",
    "    print(f\"{book[0]:{10}}{book[1]}\")"
   ]
  },
  {
   "cell_type": "code",
   "execution_count": 10,
   "metadata": {
    "execution": {
     "iopub.execute_input": "2021-01-30T14:47:37.915747Z",
     "iopub.status.busy": "2021-01-30T14:47:37.915747Z",
     "iopub.status.idle": "2021-01-30T14:47:37.926711Z",
     "shell.execute_reply": "2021-01-30T14:47:37.925713Z",
     "shell.execute_reply.started": "2021-01-30T14:47:37.915747Z"
    }
   },
   "outputs": [
    {
     "name": "stdout",
     "output_type": "stream",
     "text": [
      "Author              Topic\n",
      "Twain               Rafting\n",
      "Feynman             Physics\n",
      "Hamilton            Mythology\n"
     ]
    }
   ],
   "source": [
    "for book in library:\n",
    "    print(f\"{book[0]:{20}}{book[1]}\")"
   ]
  },
  {
   "cell_type": "code",
   "execution_count": 11,
   "metadata": {
    "execution": {
     "iopub.execute_input": "2021-01-30T14:47:38.332792Z",
     "iopub.status.busy": "2021-01-30T14:47:38.332792Z",
     "iopub.status.idle": "2021-01-30T14:47:38.352737Z",
     "shell.execute_reply": "2021-01-30T14:47:38.351771Z",
     "shell.execute_reply.started": "2021-01-30T14:47:38.332792Z"
    }
   },
   "outputs": [
    {
     "name": "stdout",
     "output_type": "stream",
     "text": [
      "Author              Topic               Pages\n",
      "Twain               Rafting             601\n",
      "Feynman             Physics             95\n",
      "Hamilton            Mythology           144\n"
     ]
    }
   ],
   "source": [
    "for book in library:\n",
    "    print(f\"{book[0]:{20}}{book[1]:{20}}{book[2]}\")"
   ]
  },
  {
   "cell_type": "code",
   "execution_count": 12,
   "metadata": {
    "execution": {
     "iopub.execute_input": "2021-01-30T14:47:38.743659Z",
     "iopub.status.busy": "2021-01-30T14:47:38.743659Z",
     "iopub.status.idle": "2021-01-30T14:47:38.761610Z",
     "shell.execute_reply": "2021-01-30T14:47:38.760646Z",
     "shell.execute_reply.started": "2021-01-30T14:47:38.743659Z"
    }
   },
   "outputs": [
    {
     "name": "stdout",
     "output_type": "stream",
     "text": [
      "AuthorTopicPages\n",
      "TwainRafting601\n",
      "FeynmanPhysics95\n",
      "HamiltonMythology144\n"
     ]
    }
   ],
   "source": [
    "for author, topic, pages in library:\n",
    "    print(f\"{author}{topic}{pages}\")"
   ]
  },
  {
   "cell_type": "code",
   "execution_count": 13,
   "metadata": {
    "execution": {
     "iopub.execute_input": "2021-01-30T14:47:39.182544Z",
     "iopub.status.busy": "2021-01-30T14:47:39.182544Z",
     "iopub.status.idle": "2021-01-30T14:47:39.199516Z",
     "shell.execute_reply": "2021-01-30T14:47:39.198501Z",
     "shell.execute_reply.started": "2021-01-30T14:47:39.182544Z"
    }
   },
   "outputs": [
    {
     "name": "stdout",
     "output_type": "stream",
     "text": [
      "Author    Topic     Pages\n",
      "Twain     Rafting   601\n",
      "Feynman   Physics   95\n",
      "Hamilton  Mythology 144\n"
     ]
    }
   ],
   "source": [
    "for author, topic, pages in library:\n",
    "    print(f\"{author:{10}}{topic:{10}}{pages}\")"
   ]
  },
  {
   "cell_type": "code",
   "execution_count": 14,
   "metadata": {
    "execution": {
     "iopub.execute_input": "2021-01-30T14:47:39.550765Z",
     "iopub.status.busy": "2021-01-30T14:47:39.550765Z",
     "iopub.status.idle": "2021-01-30T14:47:39.560709Z",
     "shell.execute_reply": "2021-01-30T14:47:39.559706Z",
     "shell.execute_reply.started": "2021-01-30T14:47:39.550765Z"
    }
   },
   "outputs": [
    {
     "name": "stdout",
     "output_type": "stream",
     "text": [
      "Author     Topic    Pages  \n",
      "Twain      Rafting      601\n",
      "Feynman    Physics       95\n",
      "Hamilton   Mythology     144\n"
     ]
    }
   ],
   "source": [
    "for book in library:\n",
    "    print(f'{book[0]:{10}} {book[1]:{8}} {book[2]:{7}}')"
   ]
  },
  {
   "cell_type": "code",
   "execution_count": 15,
   "metadata": {
    "execution": {
     "iopub.execute_input": "2021-01-30T14:47:39.930887Z",
     "iopub.status.busy": "2021-01-30T14:47:39.930887Z",
     "iopub.status.idle": "2021-01-30T14:47:39.950348Z",
     "shell.execute_reply": "2021-01-30T14:47:39.949350Z",
     "shell.execute_reply.started": "2021-01-30T14:47:39.930887Z"
    }
   },
   "outputs": [],
   "source": [
    "library = [('Author', 'Topic', 'Pages'), \n",
    "           ('Twain', 'Rafting in water alone', 601), \n",
    "           ('Feynman', 'Physics', 95), \n",
    "           ('Hamilton', 'Mythology', 144)]"
   ]
  },
  {
   "cell_type": "code",
   "execution_count": 16,
   "metadata": {
    "execution": {
     "iopub.execute_input": "2021-01-30T14:47:40.313955Z",
     "iopub.status.busy": "2021-01-30T14:47:40.312960Z",
     "iopub.status.idle": "2021-01-30T14:47:40.325923Z",
     "shell.execute_reply": "2021-01-30T14:47:40.324925Z",
     "shell.execute_reply.started": "2021-01-30T14:47:40.313955Z"
    }
   },
   "outputs": [
    {
     "name": "stdout",
     "output_type": "stream",
     "text": [
      "Author    Topic     Pages\n",
      "Twain     Rafting in water alone601\n",
      "Feynman   Physics   95\n",
      "Hamilton  Mythology 144\n"
     ]
    }
   ],
   "source": [
    "for author, topic, pages in library:\n",
    "    print(f\"{author:{10}}{topic:{10}}{pages}\")"
   ]
  },
  {
   "cell_type": "code",
   "execution_count": 17,
   "metadata": {
    "execution": {
     "iopub.execute_input": "2021-01-30T14:47:40.724406Z",
     "iopub.status.busy": "2021-01-30T14:47:40.724406Z",
     "iopub.status.idle": "2021-01-30T14:47:40.730902Z",
     "shell.execute_reply": "2021-01-30T14:47:40.729901Z",
     "shell.execute_reply.started": "2021-01-30T14:47:40.724406Z"
    }
   },
   "outputs": [
    {
     "name": "stdout",
     "output_type": "stream",
     "text": [
      "Author    Topic               Pages\n",
      "Twain     Rafting in water alone601\n",
      "Feynman   Physics             95\n",
      "Hamilton  Mythology           144\n"
     ]
    }
   ],
   "source": [
    "for author, topic, pages in library:\n",
    "    print(f\"{author:{10}}{topic:{20}}{pages}\")"
   ]
  },
  {
   "cell_type": "code",
   "execution_count": 18,
   "metadata": {
    "execution": {
     "iopub.execute_input": "2021-01-30T14:47:41.161575Z",
     "iopub.status.busy": "2021-01-30T14:47:41.161575Z",
     "iopub.status.idle": "2021-01-30T14:47:41.167560Z",
     "shell.execute_reply": "2021-01-30T14:47:41.166562Z",
     "shell.execute_reply.started": "2021-01-30T14:47:41.161575Z"
    }
   },
   "outputs": [
    {
     "name": "stdout",
     "output_type": "stream",
     "text": [
      "Author                   Topic                    Pages\n",
      "Twain                    Rafting in water alone   601\n",
      "Feynman                  Physics                  95\n",
      "Hamilton                 Mythology                144\n"
     ]
    }
   ],
   "source": [
    "for author, topic, pages in library:\n",
    "    print(f\"{author:{25}}{topic:{25}}{pages}\")"
   ]
  },
  {
   "cell_type": "code",
   "execution_count": 19,
   "metadata": {
    "execution": {
     "iopub.execute_input": "2021-01-30T14:47:41.560282Z",
     "iopub.status.busy": "2021-01-30T14:47:41.560282Z",
     "iopub.status.idle": "2021-01-30T14:47:41.575243Z",
     "shell.execute_reply": "2021-01-30T14:47:41.574245Z",
     "shell.execute_reply.started": "2021-01-30T14:47:41.560282Z"
    }
   },
   "outputs": [
    {
     "name": "stdout",
     "output_type": "stream",
     "text": [
      "Author    Topic                    Pages\n",
      "Twain     Rafting in water alone   601\n",
      "Feynman   Physics                  95\n",
      "Hamilton  Mythology                144\n"
     ]
    }
   ],
   "source": [
    "for author, topic, pages in library:\n",
    "    print(f\"{author:{10}}{topic:{25}}{pages}\")"
   ]
  },
  {
   "cell_type": "markdown",
   "metadata": {},
   "source": [
    "To set the alignment, use the character `<` for left-align,  `^` for center, `>` for right.<br>\n",
    "To set padding, precede the alignment character with the padding character (`-` and `.` are common choices).\n",
    "\n",
    "Let's make some adjustments:"
   ]
  },
  {
   "cell_type": "code",
   "execution_count": 20,
   "metadata": {
    "execution": {
     "iopub.execute_input": "2021-01-30T14:47:42.372092Z",
     "iopub.status.busy": "2021-01-30T14:47:42.372092Z",
     "iopub.status.idle": "2021-01-30T14:47:42.378050Z",
     "shell.execute_reply": "2021-01-30T14:47:42.377052Z",
     "shell.execute_reply.started": "2021-01-30T14:47:42.372092Z"
    }
   },
   "outputs": [
    {
     "name": "stdout",
     "output_type": "stream",
     "text": [
      "Author     Topic                          Pages  \n",
      "Twain      Rafting in water alone             601\n",
      "Feynman    Physics                             95\n",
      "Hamilton   Mythology                          144\n"
     ]
    }
   ],
   "source": [
    "for book in library:\n",
    "    print(f'{book[0]:{10}} {book[1]:{30}} {book[2]:{7}}')"
   ]
  },
  {
   "cell_type": "code",
   "execution_count": 21,
   "metadata": {
    "execution": {
     "iopub.execute_input": "2021-01-30T14:47:42.785423Z",
     "iopub.status.busy": "2021-01-30T14:47:42.784429Z",
     "iopub.status.idle": "2021-01-30T14:47:42.803375Z",
     "shell.execute_reply": "2021-01-30T14:47:42.802377Z",
     "shell.execute_reply.started": "2021-01-30T14:47:42.785423Z"
    }
   },
   "outputs": [
    {
     "name": "stdout",
     "output_type": "stream",
     "text": [
      "Author     Topic                            Pages\n",
      "Twain      Rafting in water alone             601\n",
      "Feynman    Physics                             95\n",
      "Hamilton   Mythology                          144\n"
     ]
    }
   ],
   "source": [
    "for book in library:\n",
    "    print(f'{book[0]:{10}} {book[1]:{30}} {book[2]:>{7}}')"
   ]
  },
  {
   "cell_type": "code",
   "execution_count": 22,
   "metadata": {
    "execution": {
     "iopub.execute_input": "2021-01-30T14:47:43.157528Z",
     "iopub.status.busy": "2021-01-30T14:47:43.157528Z",
     "iopub.status.idle": "2021-01-30T14:47:43.177991Z",
     "shell.execute_reply": "2021-01-30T14:47:43.177023Z",
     "shell.execute_reply.started": "2021-01-30T14:47:43.157528Z"
    }
   },
   "outputs": [
    {
     "name": "stdout",
     "output_type": "stream",
     "text": [
      "Author     Topic                          ..Pages\n",
      "Twain      Rafting in water alone         ....601\n",
      "Feynman    Physics                        .....95\n",
      "Hamilton   Mythology                      ....144\n"
     ]
    }
   ],
   "source": [
    "for book in library:\n",
    "    print(f'{book[0]:{10}} {book[1]:{30}} {book[2]:.>{7}}') # here .> was added"
   ]
  },
  {
   "cell_type": "markdown",
   "metadata": {},
   "source": [
    "### Date Formatting"
   ]
  },
  {
   "cell_type": "code",
   "execution_count": 23,
   "metadata": {
    "execution": {
     "iopub.execute_input": "2021-01-30T14:47:43.907848Z",
     "iopub.status.busy": "2021-01-30T14:47:43.907848Z",
     "iopub.status.idle": "2021-01-30T14:47:43.927807Z",
     "shell.execute_reply": "2021-01-30T14:47:43.926797Z",
     "shell.execute_reply.started": "2021-01-30T14:47:43.907848Z"
    }
   },
   "outputs": [
    {
     "name": "stdout",
     "output_type": "stream",
     "text": [
      "January 27, 2018\n"
     ]
    }
   ],
   "source": [
    "from datetime import datetime\n",
    "\n",
    "today = datetime(year = 2018, month = 1, day = 27)\n",
    "\n",
    "print(f'{today:%B %d, %Y}')"
   ]
  },
  {
   "cell_type": "markdown",
   "metadata": {},
   "source": [
    "For more info on formatted string literals visit https://docs.python.org/3/reference/lexical_analysis.html#f-strings\n",
    "\n",
    "***"
   ]
  },
  {
   "cell_type": "markdown",
   "metadata": {},
   "source": [
    "# Files\n",
    "\n",
    "Python uses file objects to interact with external files on your computer. These file objects can be any sort of file you have on your computer, whether it be an audio file, a text file, emails, Excel documents, etc. Note: You will probably need to install certain libraries or modules to interact with those various file types, but they are easily available. (We will cover downloading modules later on in the course).\n",
    "\n",
    "Python has a built-in open function that allows us to open and play with basic file types. First we will need a file though. We're going to use some IPython magic to create a text file!\n",
    "\n",
    "## Creating a File with IPython\n",
    "#### This function is specific to jupyter notebooks! Alternatively, quickly create a simple .txt file with Sublime text editor."
   ]
  },
  {
   "cell_type": "code",
   "execution_count": 24,
   "metadata": {
    "execution": {
     "iopub.execute_input": "2021-01-30T14:47:45.120217Z",
     "iopub.status.busy": "2021-01-30T14:47:45.120217Z",
     "iopub.status.idle": "2021-01-30T14:47:45.133182Z",
     "shell.execute_reply": "2021-01-30T14:47:45.132182Z",
     "shell.execute_reply.started": "2021-01-30T14:47:45.120217Z"
    }
   },
   "outputs": [
    {
     "name": "stdout",
     "output_type": "stream",
     "text": [
      "Overwriting test.txt\n"
     ]
    }
   ],
   "source": [
    "%%writefile test.txt\n",
    "Hello, this is a quick test file.\n",
    "This is the second line of the file."
   ]
  },
  {
   "cell_type": "markdown",
   "metadata": {},
   "source": [
    "## Python Opening a File\n",
    "\n",
    "### Know Your File's Location\n",
    "\n",
    "It's easy to get an error on this step:"
   ]
  },
  {
   "cell_type": "code",
   "execution_count": 25,
   "metadata": {
    "execution": {
     "iopub.execute_input": "2021-01-30T14:47:45.998862Z",
     "iopub.status.busy": "2021-01-30T14:47:45.997864Z",
     "iopub.status.idle": "2021-01-30T14:47:46.175386Z",
     "shell.execute_reply": "2021-01-30T14:47:46.174421Z",
     "shell.execute_reply.started": "2021-01-30T14:47:45.998862Z"
    }
   },
   "outputs": [
    {
     "ename": "FileNotFoundError",
     "evalue": "[Errno 2] No such file or directory: 'whoops.txt'",
     "output_type": "error",
     "traceback": [
      "\u001b[1;31m---------------------------------------------------------------------------\u001b[0m",
      "\u001b[1;31mFileNotFoundError\u001b[0m                         Traceback (most recent call last)",
      "\u001b[1;32m<ipython-input-25-410403f4f4b4>\u001b[0m in \u001b[0;36m<module>\u001b[1;34m\u001b[0m\n\u001b[1;32m----> 1\u001b[1;33m \u001b[0mmyfile\u001b[0m \u001b[1;33m=\u001b[0m \u001b[0mopen\u001b[0m\u001b[1;33m(\u001b[0m\u001b[1;34m'whoops.txt'\u001b[0m\u001b[1;33m)\u001b[0m\u001b[1;33m\u001b[0m\u001b[1;33m\u001b[0m\u001b[0m\n\u001b[0m",
      "\u001b[1;31mFileNotFoundError\u001b[0m: [Errno 2] No such file or directory: 'whoops.txt'"
     ]
    }
   ],
   "source": [
    "myfile = open('whoops.txt')"
   ]
  },
  {
   "cell_type": "markdown",
   "metadata": {},
   "source": [
    "To avoid this error, make sure your .txt file is saved in the same location as your notebook. To check your notebook location, use **pwd**:"
   ]
  },
  {
   "cell_type": "code",
   "execution_count": 26,
   "metadata": {
    "execution": {
     "iopub.execute_input": "2021-01-30T14:47:48.149964Z",
     "iopub.status.busy": "2021-01-30T14:47:48.149964Z",
     "iopub.status.idle": "2021-01-30T14:47:48.168879Z",
     "shell.execute_reply": "2021-01-30T14:47:48.167914Z",
     "shell.execute_reply.started": "2021-01-30T14:47:48.149964Z"
    }
   },
   "outputs": [
    {
     "data": {
      "text/plain": [
       "'C:\\\\Users\\\\Sefa3\\\\Desktop\\\\Udemy Courses\\\\Udemy - NLP with Python\\\\NLP Bootcamp\\\\00-Python-Text-Basics'"
      ]
     },
     "execution_count": 26,
     "metadata": {},
     "output_type": "execute_result"
    }
   ],
   "source": [
    "pwd"
   ]
  },
  {
   "cell_type": "markdown",
   "metadata": {},
   "source": [
    "**Alternatively, to grab files from any location on your computer, simply pass in the entire file path. **\n",
    "\n",
    "For Windows you need to use double \\ so python doesn't treat the second \\ as an escape character, a file path is in the form:\n",
    "\n",
    "    myfile = open(\"C:\\\\Users\\\\YourUserName\\\\Home\\\\Folder\\\\myfile.txt\")\n",
    "\n",
    "For MacOS and Linux you use slashes in the opposite direction:\n",
    "\n",
    "    myfile = open(\"/Users/YourUserName/Folder/myfile.txt\")"
   ]
  },
  {
   "cell_type": "code",
   "execution_count": 27,
   "metadata": {
    "execution": {
     "iopub.execute_input": "2021-01-30T14:47:50.221506Z",
     "iopub.status.busy": "2021-01-30T14:47:50.220511Z",
     "iopub.status.idle": "2021-01-30T14:47:50.233482Z",
     "shell.execute_reply": "2021-01-30T14:47:50.232504Z",
     "shell.execute_reply.started": "2021-01-30T14:47:50.221506Z"
    }
   },
   "outputs": [],
   "source": [
    "# Open the text.txt file we created earlier\n",
    "my_file = open('test.txt')"
   ]
  },
  {
   "cell_type": "code",
   "execution_count": 28,
   "metadata": {
    "execution": {
     "iopub.execute_input": "2021-01-30T14:47:50.622634Z",
     "iopub.status.busy": "2021-01-30T14:47:50.621602Z",
     "iopub.status.idle": "2021-01-30T14:47:50.642546Z",
     "shell.execute_reply": "2021-01-30T14:47:50.641583Z",
     "shell.execute_reply.started": "2021-01-30T14:47:50.622634Z"
    }
   },
   "outputs": [
    {
     "data": {
      "text/plain": [
       "<_io.TextIOWrapper name='test.txt' mode='r' encoding='cp1252'>"
      ]
     },
     "execution_count": 28,
     "metadata": {},
     "output_type": "execute_result"
    }
   ],
   "source": [
    "my_file"
   ]
  },
  {
   "cell_type": "markdown",
   "metadata": {},
   "source": [
    "`my_file` is now an open file object held in memory. We'll perform some reading and writing exercises, and then we have to close the file to free up memory.\n",
    "\n",
    "### .read() and .seek()"
   ]
  },
  {
   "cell_type": "code",
   "execution_count": 29,
   "metadata": {
    "execution": {
     "iopub.execute_input": "2021-01-30T14:47:51.566077Z",
     "iopub.status.busy": "2021-01-30T14:47:51.566077Z",
     "iopub.status.idle": "2021-01-30T14:47:51.580036Z",
     "shell.execute_reply": "2021-01-30T14:47:51.579068Z",
     "shell.execute_reply.started": "2021-01-30T14:47:51.566077Z"
    }
   },
   "outputs": [
    {
     "data": {
      "text/plain": [
       "'Hello, this is a quick test file.\\nThis is the second line of the file.\\n'"
      ]
     },
     "execution_count": 29,
     "metadata": {},
     "output_type": "execute_result"
    }
   ],
   "source": [
    "# We can now read the file\n",
    "my_file.read()"
   ]
  },
  {
   "cell_type": "code",
   "execution_count": 30,
   "metadata": {
    "execution": {
     "iopub.execute_input": "2021-01-30T14:47:52.073710Z",
     "iopub.status.busy": "2021-01-30T14:47:52.073710Z",
     "iopub.status.idle": "2021-01-30T14:47:52.094626Z",
     "shell.execute_reply": "2021-01-30T14:47:52.093634Z",
     "shell.execute_reply.started": "2021-01-30T14:47:52.073710Z"
    }
   },
   "outputs": [
    {
     "data": {
      "text/plain": [
       "''"
      ]
     },
     "execution_count": 30,
     "metadata": {},
     "output_type": "execute_result"
    }
   ],
   "source": [
    "# But what happens if we try to read it again?\n",
    "my_file.read()"
   ]
  },
  {
   "cell_type": "markdown",
   "metadata": {},
   "source": [
    "This happens because you can imagine the reading \"cursor\" is at the end of the file after having read it. So there is nothing left to read. We can reset the \"cursor\" like this:"
   ]
  },
  {
   "cell_type": "code",
   "execution_count": 31,
   "metadata": {
    "execution": {
     "iopub.execute_input": "2021-01-30T14:47:53.002984Z",
     "iopub.status.busy": "2021-01-30T14:47:53.002984Z",
     "iopub.status.idle": "2021-01-30T14:47:53.021932Z",
     "shell.execute_reply": "2021-01-30T14:47:53.020935Z",
     "shell.execute_reply.started": "2021-01-30T14:47:53.002984Z"
    }
   },
   "outputs": [
    {
     "data": {
      "text/plain": [
       "0"
      ]
     },
     "execution_count": 31,
     "metadata": {},
     "output_type": "execute_result"
    }
   ],
   "source": [
    "# Seek to the start of file (index 0)\n",
    "my_file.seek(0)"
   ]
  },
  {
   "cell_type": "code",
   "execution_count": 32,
   "metadata": {
    "execution": {
     "iopub.execute_input": "2021-01-30T14:47:53.470201Z",
     "iopub.status.busy": "2021-01-30T14:47:53.470201Z",
     "iopub.status.idle": "2021-01-30T14:47:53.490148Z",
     "shell.execute_reply": "2021-01-30T14:47:53.489183Z",
     "shell.execute_reply.started": "2021-01-30T14:47:53.470201Z"
    }
   },
   "outputs": [],
   "source": [
    "# Now read again\n",
    "content = my_file.read()"
   ]
  },
  {
   "cell_type": "code",
   "execution_count": 33,
   "metadata": {
    "execution": {
     "iopub.execute_input": "2021-01-30T14:47:53.908827Z",
     "iopub.status.busy": "2021-01-30T14:47:53.907828Z",
     "iopub.status.idle": "2021-01-30T14:47:53.928771Z",
     "shell.execute_reply": "2021-01-30T14:47:53.927774Z",
     "shell.execute_reply.started": "2021-01-30T14:47:53.908827Z"
    }
   },
   "outputs": [
    {
     "data": {
      "text/plain": [
       "'Hello, this is a quick test file.\\nThis is the second line of the file.\\n'"
      ]
     },
     "execution_count": 33,
     "metadata": {},
     "output_type": "execute_result"
    }
   ],
   "source": [
    "content"
   ]
  },
  {
   "cell_type": "code",
   "execution_count": 34,
   "metadata": {
    "execution": {
     "iopub.execute_input": "2021-01-30T14:47:54.381615Z",
     "iopub.status.busy": "2021-01-30T14:47:54.381615Z",
     "iopub.status.idle": "2021-01-30T14:47:54.398573Z",
     "shell.execute_reply": "2021-01-30T14:47:54.397572Z",
     "shell.execute_reply.started": "2021-01-30T14:47:54.381615Z"
    }
   },
   "outputs": [
    {
     "name": "stdout",
     "output_type": "stream",
     "text": [
      "Hello, this is a quick test file.\n",
      "This is the second line of the file.\n",
      "\n"
     ]
    }
   ],
   "source": [
    "print(content)"
   ]
  },
  {
   "cell_type": "code",
   "execution_count": 35,
   "metadata": {
    "execution": {
     "iopub.execute_input": "2021-01-30T14:47:54.842632Z",
     "iopub.status.busy": "2021-01-30T14:47:54.842632Z",
     "iopub.status.idle": "2021-01-30T14:47:54.851124Z",
     "shell.execute_reply": "2021-01-30T14:47:54.850125Z",
     "shell.execute_reply.started": "2021-01-30T14:47:54.842632Z"
    }
   },
   "outputs": [
    {
     "data": {
      "text/plain": [
       "'Hello, this is a quick test file.\\nThis is the second line of the file.'"
      ]
     },
     "execution_count": 35,
     "metadata": {},
     "output_type": "execute_result"
    }
   ],
   "source": [
    "content[:-1]"
   ]
  },
  {
   "cell_type": "code",
   "execution_count": 36,
   "metadata": {
    "execution": {
     "iopub.execute_input": "2021-01-30T14:47:55.295272Z",
     "iopub.status.busy": "2021-01-30T14:47:55.295272Z",
     "iopub.status.idle": "2021-01-30T14:47:55.303249Z",
     "shell.execute_reply": "2021-01-30T14:47:55.302251Z",
     "shell.execute_reply.started": "2021-01-30T14:47:55.295272Z"
    }
   },
   "outputs": [
    {
     "name": "stdout",
     "output_type": "stream",
     "text": [
      "Hello, this is a quick test file.\n",
      "This is the second line of the file.\n"
     ]
    }
   ],
   "source": [
    "print(content[:-1])"
   ]
  },
  {
   "cell_type": "code",
   "execution_count": 37,
   "metadata": {
    "execution": {
     "iopub.execute_input": "2021-01-30T14:47:55.709608Z",
     "iopub.status.busy": "2021-01-30T14:47:55.708612Z",
     "iopub.status.idle": "2021-01-30T14:47:55.723571Z",
     "shell.execute_reply": "2021-01-30T14:47:55.722573Z",
     "shell.execute_reply.started": "2021-01-30T14:47:55.709608Z"
    }
   },
   "outputs": [
    {
     "data": {
      "text/plain": [
       "0"
      ]
     },
     "execution_count": 37,
     "metadata": {},
     "output_type": "execute_result"
    }
   ],
   "source": [
    "my_file.seek(0)"
   ]
  },
  {
   "cell_type": "markdown",
   "metadata": {},
   "source": [
    "### .readlines()\n",
    "You can read a file line by line using the readlines method. Use caution with large files, since everything will be held in memory. We will learn how to iterate over large files later in the course."
   ]
  },
  {
   "cell_type": "code",
   "execution_count": 38,
   "metadata": {
    "execution": {
     "iopub.execute_input": "2021-01-30T14:47:56.483020Z",
     "iopub.status.busy": "2021-01-30T14:47:56.482014Z",
     "iopub.status.idle": "2021-01-30T14:47:56.489001Z",
     "shell.execute_reply": "2021-01-30T14:47:56.488006Z",
     "shell.execute_reply.started": "2021-01-30T14:47:56.483020Z"
    }
   },
   "outputs": [],
   "source": [
    "# Readlines returns a list of the lines in the file\n",
    "mylines = my_file.readlines()"
   ]
  },
  {
   "cell_type": "code",
   "execution_count": 39,
   "metadata": {
    "execution": {
     "iopub.execute_input": "2021-01-30T14:47:56.908972Z",
     "iopub.status.busy": "2021-01-30T14:47:56.908972Z",
     "iopub.status.idle": "2021-01-30T14:47:56.925969Z",
     "shell.execute_reply": "2021-01-30T14:47:56.924930Z",
     "shell.execute_reply.started": "2021-01-30T14:47:56.908972Z"
    }
   },
   "outputs": [
    {
     "data": {
      "text/plain": [
       "['Hello, this is a quick test file.\\n',\n",
       " 'This is the second line of the file.\\n']"
      ]
     },
     "execution_count": 39,
     "metadata": {},
     "output_type": "execute_result"
    }
   ],
   "source": [
    "mylines"
   ]
  },
  {
   "cell_type": "markdown",
   "metadata": {},
   "source": [
    "When you have finished using a file, it is always good practice to close it."
   ]
  },
  {
   "cell_type": "code",
   "execution_count": 40,
   "metadata": {
    "execution": {
     "iopub.execute_input": "2021-01-30T14:47:57.841591Z",
     "iopub.status.busy": "2021-01-30T14:47:57.841591Z",
     "iopub.status.idle": "2021-01-30T14:47:57.850078Z",
     "shell.execute_reply": "2021-01-30T14:47:57.849080Z",
     "shell.execute_reply.started": "2021-01-30T14:47:57.841591Z"
    }
   },
   "outputs": [],
   "source": [
    "my_file.close()"
   ]
  },
  {
   "cell_type": "code",
   "execution_count": 41,
   "metadata": {
    "execution": {
     "iopub.execute_input": "2021-01-30T14:47:58.244888Z",
     "iopub.status.busy": "2021-01-30T14:47:58.243890Z",
     "iopub.status.idle": "2021-01-30T14:47:58.259846Z",
     "shell.execute_reply": "2021-01-30T14:47:58.258850Z",
     "shell.execute_reply.started": "2021-01-30T14:47:58.244888Z"
    }
   },
   "outputs": [
    {
     "name": "stdout",
     "output_type": "stream",
     "text": [
      "Hello, this is a quick test file.\n",
      "\n",
      "This is the second line of the file.\n",
      "\n"
     ]
    }
   ],
   "source": [
    "for line in mylines:\n",
    "    print(line)"
   ]
  },
  {
   "cell_type": "code",
   "execution_count": 42,
   "metadata": {
    "execution": {
     "iopub.execute_input": "2021-01-30T14:47:58.635208Z",
     "iopub.status.busy": "2021-01-30T14:47:58.635208Z",
     "iopub.status.idle": "2021-01-30T14:47:58.653158Z",
     "shell.execute_reply": "2021-01-30T14:47:58.651188Z",
     "shell.execute_reply.started": "2021-01-30T14:47:58.635208Z"
    }
   },
   "outputs": [
    {
     "name": "stdout",
     "output_type": "stream",
     "text": [
      "H\n",
      "T\n"
     ]
    }
   ],
   "source": [
    "for line in mylines:\n",
    "    print(line[0])"
   ]
  },
  {
   "cell_type": "code",
   "execution_count": 43,
   "metadata": {
    "execution": {
     "iopub.execute_input": "2021-01-30T14:47:59.147567Z",
     "iopub.status.busy": "2021-01-30T14:47:59.146569Z",
     "iopub.status.idle": "2021-01-30T14:47:59.166532Z",
     "shell.execute_reply": "2021-01-30T14:47:59.165548Z",
     "shell.execute_reply.started": "2021-01-30T14:47:59.147567Z"
    }
   },
   "outputs": [
    {
     "name": "stdout",
     "output_type": "stream",
     "text": [
      "Hello,\n",
      "This\n"
     ]
    }
   ],
   "source": [
    "for line in mylines:\n",
    "    print(line.split()[0])"
   ]
  },
  {
   "cell_type": "markdown",
   "metadata": {},
   "source": [
    "## Writing to a File\n",
    "\n",
    "By default, the `open()` function will only allow us to read the file. We need to pass the argument `'w'` to write over the file. For example:"
   ]
  },
  {
   "cell_type": "code",
   "execution_count": 44,
   "metadata": {
    "execution": {
     "iopub.execute_input": "2021-01-30T14:48:00.028657Z",
     "iopub.status.busy": "2021-01-30T14:48:00.028657Z",
     "iopub.status.idle": "2021-01-30T14:48:00.039629Z",
     "shell.execute_reply": "2021-01-30T14:48:00.038630Z",
     "shell.execute_reply.started": "2021-01-30T14:48:00.028657Z"
    }
   },
   "outputs": [],
   "source": [
    "# Add a second argument to the function, 'w' which stands for write.\n",
    "# Passing 'w+' lets us read and write to the file\n",
    "\n",
    "my_file = open('test.txt', 'w+')"
   ]
  },
  {
   "cell_type": "code",
   "execution_count": 45,
   "metadata": {
    "execution": {
     "iopub.execute_input": "2021-01-30T14:48:00.491593Z",
     "iopub.status.busy": "2021-01-30T14:48:00.491593Z",
     "iopub.status.idle": "2021-01-30T14:48:00.507060Z",
     "shell.execute_reply": "2021-01-30T14:48:00.506063Z",
     "shell.execute_reply.started": "2021-01-30T14:48:00.491593Z"
    }
   },
   "outputs": [
    {
     "data": {
      "text/plain": [
       "''"
      ]
     },
     "execution_count": 45,
     "metadata": {},
     "output_type": "execute_result"
    }
   ],
   "source": [
    "my_file.read()"
   ]
  },
  {
   "cell_type": "markdown",
   "metadata": {},
   "source": [
    "<div class=\"alert alert-danger\" style=\"margin: 20px\">**Use caution!**<br>\n",
    "Opening a file with 'w' or 'w+' *truncates the original*, meaning that anything that was in the original file **is deleted**!</div>"
   ]
  },
  {
   "cell_type": "code",
   "execution_count": 46,
   "metadata": {
    "execution": {
     "iopub.execute_input": "2021-01-30T14:48:01.285095Z",
     "iopub.status.busy": "2021-01-30T14:48:01.284099Z",
     "iopub.status.idle": "2021-01-30T14:48:01.303049Z",
     "shell.execute_reply": "2021-01-30T14:48:01.301053Z",
     "shell.execute_reply.started": "2021-01-30T14:48:01.285095Z"
    }
   },
   "outputs": [
    {
     "data": {
      "text/plain": [
       "24"
      ]
     },
     "execution_count": 46,
     "metadata": {},
     "output_type": "execute_result"
    }
   ],
   "source": [
    "# Write to the file\n",
    "my_file.write('This is a new first line')"
   ]
  },
  {
   "cell_type": "code",
   "execution_count": 47,
   "metadata": {
    "execution": {
     "iopub.execute_input": "2021-01-30T14:48:01.690686Z",
     "iopub.status.busy": "2021-01-30T14:48:01.690686Z",
     "iopub.status.idle": "2021-01-30T14:48:01.711630Z",
     "shell.execute_reply": "2021-01-30T14:48:01.710662Z",
     "shell.execute_reply.started": "2021-01-30T14:48:01.690686Z"
    }
   },
   "outputs": [
    {
     "data": {
      "text/plain": [
       "''"
      ]
     },
     "execution_count": 47,
     "metadata": {},
     "output_type": "execute_result"
    }
   ],
   "source": [
    "my_file.read()"
   ]
  },
  {
   "cell_type": "code",
   "execution_count": 48,
   "metadata": {
    "execution": {
     "iopub.execute_input": "2021-01-30T14:48:02.022160Z",
     "iopub.status.busy": "2021-01-30T14:48:02.022160Z",
     "iopub.status.idle": "2021-01-30T14:48:02.039114Z",
     "shell.execute_reply": "2021-01-30T14:48:02.038116Z",
     "shell.execute_reply.started": "2021-01-30T14:48:02.022160Z"
    }
   },
   "outputs": [
    {
     "data": {
      "text/plain": [
       "0"
      ]
     },
     "execution_count": 48,
     "metadata": {},
     "output_type": "execute_result"
    }
   ],
   "source": [
    "my_file.seek(0)"
   ]
  },
  {
   "cell_type": "code",
   "execution_count": 49,
   "metadata": {
    "execution": {
     "iopub.execute_input": "2021-01-30T14:48:02.383633Z",
     "iopub.status.busy": "2021-01-30T14:48:02.382611Z",
     "iopub.status.idle": "2021-01-30T14:48:02.399566Z",
     "shell.execute_reply": "2021-01-30T14:48:02.398598Z",
     "shell.execute_reply.started": "2021-01-30T14:48:02.383633Z"
    }
   },
   "outputs": [
    {
     "data": {
      "text/plain": [
       "'This is a new first line'"
      ]
     },
     "execution_count": 49,
     "metadata": {},
     "output_type": "execute_result"
    }
   ],
   "source": [
    "# Read the file\n",
    "my_file.read()"
   ]
  },
  {
   "cell_type": "code",
   "execution_count": 50,
   "metadata": {
    "execution": {
     "iopub.execute_input": "2021-01-30T14:48:02.811099Z",
     "iopub.status.busy": "2021-01-30T14:48:02.811099Z",
     "iopub.status.idle": "2021-01-30T14:48:02.825061Z",
     "shell.execute_reply": "2021-01-30T14:48:02.824062Z",
     "shell.execute_reply.started": "2021-01-30T14:48:02.811099Z"
    }
   },
   "outputs": [],
   "source": [
    "my_file.close()  # always do this when you're done with a file"
   ]
  },
  {
   "cell_type": "markdown",
   "metadata": {},
   "source": [
    "## Appending to a File\n",
    "Passing the argument `'a'` opens the file and puts the pointer at the end, so anything written is appended. Like `'w+'`, `'a+'` lets us read and write to a file. If the file does not exist, one will be created."
   ]
  },
  {
   "cell_type": "code",
   "execution_count": 51,
   "metadata": {
    "execution": {
     "iopub.execute_input": "2021-01-30T14:48:03.580124Z",
     "iopub.status.busy": "2021-01-30T14:48:03.579124Z",
     "iopub.status.idle": "2021-01-30T14:48:03.590619Z",
     "shell.execute_reply": "2021-01-30T14:48:03.589620Z",
     "shell.execute_reply.started": "2021-01-30T14:48:03.580124Z"
    }
   },
   "outputs": [
    {
     "data": {
      "text/plain": [
       "23"
      ]
     },
     "execution_count": 51,
     "metadata": {},
     "output_type": "execute_result"
    }
   ],
   "source": [
    "my_file = open('test.txt', 'a+')\n",
    "my_file.write('\\nThis line is being appended to test.txt')\n",
    "my_file.write('\\nAnd another line here.')"
   ]
  },
  {
   "cell_type": "code",
   "execution_count": 52,
   "metadata": {
    "execution": {
     "iopub.execute_input": "2021-01-30T14:48:04.009544Z",
     "iopub.status.busy": "2021-01-30T14:48:04.008521Z",
     "iopub.status.idle": "2021-01-30T14:48:04.027600Z",
     "shell.execute_reply": "2021-01-30T14:48:04.026602Z",
     "shell.execute_reply.started": "2021-01-30T14:48:04.009544Z"
    }
   },
   "outputs": [
    {
     "name": "stdout",
     "output_type": "stream",
     "text": [
      "This is a new first line\n",
      "This line is being appended to test.txt\n",
      "And another line here.\n"
     ]
    }
   ],
   "source": [
    "my_file.seek(0)\n",
    "print(my_file.read())"
   ]
  },
  {
   "cell_type": "code",
   "execution_count": 53,
   "metadata": {
    "execution": {
     "iopub.execute_input": "2021-01-30T14:48:04.428306Z",
     "iopub.status.busy": "2021-01-30T14:48:04.427310Z",
     "iopub.status.idle": "2021-01-30T14:48:04.433292Z",
     "shell.execute_reply": "2021-01-30T14:48:04.432294Z",
     "shell.execute_reply.started": "2021-01-30T14:48:04.428306Z"
    }
   },
   "outputs": [],
   "source": [
    "my_file.close()"
   ]
  },
  {
   "cell_type": "markdown",
   "metadata": {},
   "source": [
    "### Appending with `%%writefile`\n",
    "Jupyter notebook users can do the same thing using IPython cell magic:"
   ]
  },
  {
   "cell_type": "code",
   "execution_count": 54,
   "metadata": {
    "execution": {
     "iopub.execute_input": "2021-01-30T14:48:05.167937Z",
     "iopub.status.busy": "2021-01-30T14:48:05.167937Z",
     "iopub.status.idle": "2021-01-30T14:48:05.179879Z",
     "shell.execute_reply": "2021-01-30T14:48:05.178880Z",
     "shell.execute_reply.started": "2021-01-30T14:48:05.167937Z"
    }
   },
   "outputs": [
    {
     "name": "stdout",
     "output_type": "stream",
     "text": [
      "Appending to test.txt\n"
     ]
    }
   ],
   "source": [
    "%%writefile -a test.txt\n",
    "\n",
    "This is more text being appended to test.txt\n",
    "And another line here."
   ]
  },
  {
   "cell_type": "markdown",
   "metadata": {},
   "source": [
    "Add a blank space if you want the first line to begin on its own line, as Jupyter won't recognize escape sequences like `\\n`"
   ]
  },
  {
   "cell_type": "markdown",
   "metadata": {},
   "source": [
    "## Aliases and Context Managers\n",
    "You can assign temporary variable names as aliases, and manage the opening and closing of files automatically using a context manager:"
   ]
  },
  {
   "cell_type": "code",
   "execution_count": 55,
   "metadata": {
    "execution": {
     "iopub.execute_input": "2021-01-30T14:48:06.315090Z",
     "iopub.status.busy": "2021-01-30T14:48:06.315090Z",
     "iopub.status.idle": "2021-01-30T14:48:06.329027Z",
     "shell.execute_reply": "2021-01-30T14:48:06.328027Z",
     "shell.execute_reply.started": "2021-01-30T14:48:06.315090Z"
    }
   },
   "outputs": [],
   "source": [
    "with open('test.txt', 'r') as txt:\n",
    "    lines = txt.readlines()"
   ]
  },
  {
   "cell_type": "code",
   "execution_count": 56,
   "metadata": {
    "execution": {
     "iopub.execute_input": "2021-01-30T14:48:06.665136Z",
     "iopub.status.busy": "2021-01-30T14:48:06.665136Z",
     "iopub.status.idle": "2021-01-30T14:48:06.674080Z",
     "shell.execute_reply": "2021-01-30T14:48:06.673096Z",
     "shell.execute_reply.started": "2021-01-30T14:48:06.665136Z"
    }
   },
   "outputs": [
    {
     "data": {
      "text/plain": [
       "['This is a new first line\\n',\n",
       " 'This line is being appended to test.txt\\n',\n",
       " 'And another line here.\\n',\n",
       " 'This is more text being appended to test.txt\\n',\n",
       " 'And another line here.\\n']"
      ]
     },
     "execution_count": 56,
     "metadata": {},
     "output_type": "execute_result"
    }
   ],
   "source": [
    "lines"
   ]
  },
  {
   "cell_type": "code",
   "execution_count": 57,
   "metadata": {
    "execution": {
     "iopub.execute_input": "2021-01-30T14:48:07.049140Z",
     "iopub.status.busy": "2021-01-30T14:48:07.049140Z",
     "iopub.status.idle": "2021-01-30T14:48:07.065086Z",
     "shell.execute_reply": "2021-01-30T14:48:07.064089Z",
     "shell.execute_reply.started": "2021-01-30T14:48:07.049140Z"
    }
   },
   "outputs": [
    {
     "name": "stdout",
     "output_type": "stream",
     "text": [
      "This is a new first line\n",
      "This line is being appended to test.txt\n",
      "And another line here.\n",
      "This is more text being appended to test.txt\n",
      "And another line here.\n"
     ]
    }
   ],
   "source": [
    "for line in lines:\n",
    "    line = line.split('\\n')[0]\n",
    "    print(line)"
   ]
  },
  {
   "cell_type": "markdown",
   "metadata": {},
   "source": [
    "Note that the `with ... as ...:` context manager automatically closed `test.txt` after assigning the first line of text to first_line:"
   ]
  },
  {
   "cell_type": "code",
   "execution_count": 58,
   "metadata": {
    "execution": {
     "iopub.execute_input": "2021-01-30T14:48:07.926929Z",
     "iopub.status.busy": "2021-01-30T14:48:07.926929Z",
     "iopub.status.idle": "2021-01-30T14:48:07.945881Z",
     "shell.execute_reply": "2021-01-30T14:48:07.944882Z",
     "shell.execute_reply.started": "2021-01-30T14:48:07.926929Z"
    }
   },
   "outputs": [
    {
     "ename": "ValueError",
     "evalue": "I/O operation on closed file.",
     "output_type": "error",
     "traceback": [
      "\u001b[1;31m---------------------------------------------------------------------------\u001b[0m",
      "\u001b[1;31mValueError\u001b[0m                                Traceback (most recent call last)",
      "\u001b[1;32m<ipython-input-58-39ca4397fa0a>\u001b[0m in \u001b[0;36m<module>\u001b[1;34m\u001b[0m\n\u001b[1;32m----> 1\u001b[1;33m \u001b[0mtxt\u001b[0m\u001b[1;33m.\u001b[0m\u001b[0mread\u001b[0m\u001b[1;33m(\u001b[0m\u001b[1;33m)\u001b[0m\u001b[1;33m\u001b[0m\u001b[1;33m\u001b[0m\u001b[0m\n\u001b[0m",
      "\u001b[1;31mValueError\u001b[0m: I/O operation on closed file."
     ]
    }
   ],
   "source": [
    "txt.read()"
   ]
  },
  {
   "cell_type": "markdown",
   "metadata": {},
   "source": [
    "## Iterating through a File"
   ]
  },
  {
   "cell_type": "code",
   "execution_count": 59,
   "metadata": {
    "execution": {
     "iopub.execute_input": "2021-01-30T14:48:09.447302Z",
     "iopub.status.busy": "2021-01-30T14:48:09.447302Z",
     "iopub.status.idle": "2021-01-30T14:48:09.461264Z",
     "shell.execute_reply": "2021-01-30T14:48:09.460292Z",
     "shell.execute_reply.started": "2021-01-30T14:48:09.447302Z"
    }
   },
   "outputs": [
    {
     "name": "stdout",
     "output_type": "stream",
     "text": [
      "This is a new first line\n",
      "This line is being appended to test.txt\n",
      "And another line here.\n",
      "This is more text being appended to test.txt\n",
      "And another line here.\n"
     ]
    }
   ],
   "source": [
    "with open('test.txt', 'r') as txt:\n",
    "    for line in txt:\n",
    "        print(line, end = '')  # the end='' argument removes extra linebreaks"
   ]
  }
 ],
 "metadata": {
  "kernelspec": {
   "display_name": "Python 3",
   "language": "python",
   "name": "python3"
  },
  "language_info": {
   "codemirror_mode": {
    "name": "ipython",
    "version": 3
   },
   "file_extension": ".py",
   "mimetype": "text/x-python",
   "name": "python",
   "nbconvert_exporter": "python",
   "pygments_lexer": "ipython3",
   "version": "3.8.6"
  }
 },
 "nbformat": 4,
 "nbformat_minor": 4
}
